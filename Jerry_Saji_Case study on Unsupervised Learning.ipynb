{
 "cells": [
  {
   "cell_type": "markdown",
   "id": "6005e29d",
   "metadata": {},
   "source": [
    "#### Importing necessary libraries"
   ]
  },
  {
   "cell_type": "code",
   "execution_count": 1,
   "id": "1b42e6ee",
   "metadata": {},
   "outputs": [],
   "source": [
    "import numpy as np\n",
    "import pandas as pd\n",
    "import matplotlib.pyplot as plt\n",
    "import seaborn as sns\n",
    "import warnings\n",
    "warnings.simplefilter(action = 'ignore', category = FutureWarning)\n",
    "warnings.simplefilter(action = 'ignore', category = UserWarning)"
   ]
  },
  {
   "cell_type": "markdown",
   "id": "f703b9ae",
   "metadata": {},
   "source": [
    "#### Loading the dataset"
   ]
  },
  {
   "cell_type": "code",
   "execution_count": 2,
   "id": "f4130a22",
   "metadata": {},
   "outputs": [],
   "source": [
    "data = pd.read_csv(r\"D:\\ICTAK\\Assignments and Case Studies\\Case Study 03\\Wine_clust .csv\")"
   ]
  },
  {
   "cell_type": "markdown",
   "id": "b8d20e46",
   "metadata": {},
   "source": [
    "#### Displaying the head of the dataset"
   ]
  },
  {
   "cell_type": "code",
   "execution_count": 3,
   "id": "1316cb0d",
   "metadata": {},
   "outputs": [
    {
     "data": {
      "text/html": [
       "<div>\n",
       "<style scoped>\n",
       "    .dataframe tbody tr th:only-of-type {\n",
       "        vertical-align: middle;\n",
       "    }\n",
       "\n",
       "    .dataframe tbody tr th {\n",
       "        vertical-align: top;\n",
       "    }\n",
       "\n",
       "    .dataframe thead th {\n",
       "        text-align: right;\n",
       "    }\n",
       "</style>\n",
       "<table border=\"1\" class=\"dataframe\">\n",
       "  <thead>\n",
       "    <tr style=\"text-align: right;\">\n",
       "      <th></th>\n",
       "      <th>Alcohol</th>\n",
       "      <th>Malic_Acid</th>\n",
       "      <th>Ash</th>\n",
       "      <th>Ash_Alcanity</th>\n",
       "      <th>Magnesium</th>\n",
       "      <th>Total_Phenols</th>\n",
       "      <th>Flavanoids</th>\n",
       "      <th>Nonflavanoid_Phenols</th>\n",
       "      <th>Proanthocyanins</th>\n",
       "      <th>Color_Intensity</th>\n",
       "      <th>Hue</th>\n",
       "      <th>OD280</th>\n",
       "      <th>Proline</th>\n",
       "    </tr>\n",
       "  </thead>\n",
       "  <tbody>\n",
       "    <tr>\n",
       "      <th>0</th>\n",
       "      <td>14.23</td>\n",
       "      <td>1.71</td>\n",
       "      <td>2.43</td>\n",
       "      <td>15.6</td>\n",
       "      <td>127</td>\n",
       "      <td>2.80</td>\n",
       "      <td>3.06</td>\n",
       "      <td>0.28</td>\n",
       "      <td>2.29</td>\n",
       "      <td>5.64</td>\n",
       "      <td>1.04</td>\n",
       "      <td>3.92</td>\n",
       "      <td>1065</td>\n",
       "    </tr>\n",
       "    <tr>\n",
       "      <th>1</th>\n",
       "      <td>13.20</td>\n",
       "      <td>1.78</td>\n",
       "      <td>2.14</td>\n",
       "      <td>11.2</td>\n",
       "      <td>100</td>\n",
       "      <td>2.65</td>\n",
       "      <td>2.76</td>\n",
       "      <td>0.26</td>\n",
       "      <td>1.28</td>\n",
       "      <td>4.38</td>\n",
       "      <td>1.05</td>\n",
       "      <td>3.40</td>\n",
       "      <td>1050</td>\n",
       "    </tr>\n",
       "    <tr>\n",
       "      <th>2</th>\n",
       "      <td>13.16</td>\n",
       "      <td>2.36</td>\n",
       "      <td>2.67</td>\n",
       "      <td>18.6</td>\n",
       "      <td>101</td>\n",
       "      <td>2.80</td>\n",
       "      <td>3.24</td>\n",
       "      <td>0.30</td>\n",
       "      <td>2.81</td>\n",
       "      <td>5.68</td>\n",
       "      <td>1.03</td>\n",
       "      <td>3.17</td>\n",
       "      <td>1185</td>\n",
       "    </tr>\n",
       "    <tr>\n",
       "      <th>3</th>\n",
       "      <td>14.37</td>\n",
       "      <td>1.95</td>\n",
       "      <td>2.50</td>\n",
       "      <td>16.8</td>\n",
       "      <td>113</td>\n",
       "      <td>3.85</td>\n",
       "      <td>3.49</td>\n",
       "      <td>0.24</td>\n",
       "      <td>2.18</td>\n",
       "      <td>7.80</td>\n",
       "      <td>0.86</td>\n",
       "      <td>3.45</td>\n",
       "      <td>1480</td>\n",
       "    </tr>\n",
       "    <tr>\n",
       "      <th>4</th>\n",
       "      <td>13.24</td>\n",
       "      <td>2.59</td>\n",
       "      <td>2.87</td>\n",
       "      <td>21.0</td>\n",
       "      <td>118</td>\n",
       "      <td>2.80</td>\n",
       "      <td>2.69</td>\n",
       "      <td>0.39</td>\n",
       "      <td>1.82</td>\n",
       "      <td>4.32</td>\n",
       "      <td>1.04</td>\n",
       "      <td>2.93</td>\n",
       "      <td>735</td>\n",
       "    </tr>\n",
       "  </tbody>\n",
       "</table>\n",
       "</div>"
      ],
      "text/plain": [
       "   Alcohol  Malic_Acid   Ash  Ash_Alcanity  Magnesium  Total_Phenols  \\\n",
       "0    14.23        1.71  2.43          15.6        127           2.80   \n",
       "1    13.20        1.78  2.14          11.2        100           2.65   \n",
       "2    13.16        2.36  2.67          18.6        101           2.80   \n",
       "3    14.37        1.95  2.50          16.8        113           3.85   \n",
       "4    13.24        2.59  2.87          21.0        118           2.80   \n",
       "\n",
       "   Flavanoids  Nonflavanoid_Phenols  Proanthocyanins  Color_Intensity   Hue  \\\n",
       "0        3.06                  0.28             2.29             5.64  1.04   \n",
       "1        2.76                  0.26             1.28             4.38  1.05   \n",
       "2        3.24                  0.30             2.81             5.68  1.03   \n",
       "3        3.49                  0.24             2.18             7.80  0.86   \n",
       "4        2.69                  0.39             1.82             4.32  1.04   \n",
       "\n",
       "   OD280  Proline  \n",
       "0   3.92     1065  \n",
       "1   3.40     1050  \n",
       "2   3.17     1185  \n",
       "3   3.45     1480  \n",
       "4   2.93      735  "
      ]
     },
     "execution_count": 3,
     "metadata": {},
     "output_type": "execute_result"
    }
   ],
   "source": [
    "data.head()"
   ]
  },
  {
   "cell_type": "markdown",
   "id": "a1a221f2",
   "metadata": {},
   "source": [
    "#### Getting the shape of the dataset"
   ]
  },
  {
   "cell_type": "code",
   "execution_count": 4,
   "id": "ae20fd03",
   "metadata": {},
   "outputs": [
    {
     "data": {
      "text/plain": [
       "(178, 13)"
      ]
     },
     "execution_count": 4,
     "metadata": {},
     "output_type": "execute_result"
    }
   ],
   "source": [
    "data.shape"
   ]
  },
  {
   "cell_type": "markdown",
   "id": "435d923e",
   "metadata": {},
   "source": [
    "#### Getting the info of the dataset"
   ]
  },
  {
   "cell_type": "code",
   "execution_count": 5,
   "id": "279b2815",
   "metadata": {},
   "outputs": [
    {
     "name": "stdout",
     "output_type": "stream",
     "text": [
      "<class 'pandas.core.frame.DataFrame'>\n",
      "RangeIndex: 178 entries, 0 to 177\n",
      "Data columns (total 13 columns):\n",
      " #   Column                Non-Null Count  Dtype  \n",
      "---  ------                --------------  -----  \n",
      " 0   Alcohol               178 non-null    float64\n",
      " 1   Malic_Acid            178 non-null    float64\n",
      " 2   Ash                   178 non-null    float64\n",
      " 3   Ash_Alcanity          178 non-null    float64\n",
      " 4   Magnesium             178 non-null    int64  \n",
      " 5   Total_Phenols         178 non-null    float64\n",
      " 6   Flavanoids            178 non-null    float64\n",
      " 7   Nonflavanoid_Phenols  178 non-null    float64\n",
      " 8   Proanthocyanins       178 non-null    float64\n",
      " 9   Color_Intensity       178 non-null    float64\n",
      " 10  Hue                   178 non-null    float64\n",
      " 11  OD280                 178 non-null    float64\n",
      " 12  Proline               178 non-null    int64  \n",
      "dtypes: float64(11), int64(2)\n",
      "memory usage: 18.2 KB\n"
     ]
    }
   ],
   "source": [
    "data.info()"
   ]
  },
  {
   "cell_type": "markdown",
   "id": "9d7709ac",
   "metadata": {},
   "source": [
    "#### Finding whether there is null values in the dataset"
   ]
  },
  {
   "cell_type": "code",
   "execution_count": 6,
   "id": "87f03bda",
   "metadata": {},
   "outputs": [
    {
     "data": {
      "text/plain": [
       "Alcohol                 0\n",
       "Malic_Acid              0\n",
       "Ash                     0\n",
       "Ash_Alcanity            0\n",
       "Magnesium               0\n",
       "Total_Phenols           0\n",
       "Flavanoids              0\n",
       "Nonflavanoid_Phenols    0\n",
       "Proanthocyanins         0\n",
       "Color_Intensity         0\n",
       "Hue                     0\n",
       "OD280                   0\n",
       "Proline                 0\n",
       "dtype: int64"
      ]
     },
     "execution_count": 6,
     "metadata": {},
     "output_type": "execute_result"
    }
   ],
   "source": [
    "data.isna().sum()"
   ]
  },
  {
   "cell_type": "markdown",
   "id": "6e37b411",
   "metadata": {},
   "source": [
    "##### <font color = violet> There is no null values in the dataset."
   ]
  },
  {
   "cell_type": "markdown",
   "id": "4043def9",
   "metadata": {},
   "source": [
    "#### Displaying the statistical summary of the dataset"
   ]
  },
  {
   "cell_type": "code",
   "execution_count": 7,
   "id": "f1d4ef1d",
   "metadata": {},
   "outputs": [
    {
     "data": {
      "text/html": [
       "<div>\n",
       "<style scoped>\n",
       "    .dataframe tbody tr th:only-of-type {\n",
       "        vertical-align: middle;\n",
       "    }\n",
       "\n",
       "    .dataframe tbody tr th {\n",
       "        vertical-align: top;\n",
       "    }\n",
       "\n",
       "    .dataframe thead th {\n",
       "        text-align: right;\n",
       "    }\n",
       "</style>\n",
       "<table border=\"1\" class=\"dataframe\">\n",
       "  <thead>\n",
       "    <tr style=\"text-align: right;\">\n",
       "      <th></th>\n",
       "      <th>Alcohol</th>\n",
       "      <th>Malic_Acid</th>\n",
       "      <th>Ash</th>\n",
       "      <th>Ash_Alcanity</th>\n",
       "      <th>Magnesium</th>\n",
       "      <th>Total_Phenols</th>\n",
       "      <th>Flavanoids</th>\n",
       "      <th>Nonflavanoid_Phenols</th>\n",
       "      <th>Proanthocyanins</th>\n",
       "      <th>Color_Intensity</th>\n",
       "      <th>Hue</th>\n",
       "      <th>OD280</th>\n",
       "      <th>Proline</th>\n",
       "    </tr>\n",
       "  </thead>\n",
       "  <tbody>\n",
       "    <tr>\n",
       "      <th>count</th>\n",
       "      <td>178.000000</td>\n",
       "      <td>178.000000</td>\n",
       "      <td>178.000000</td>\n",
       "      <td>178.000000</td>\n",
       "      <td>178.000000</td>\n",
       "      <td>178.000000</td>\n",
       "      <td>178.000000</td>\n",
       "      <td>178.000000</td>\n",
       "      <td>178.000000</td>\n",
       "      <td>178.000000</td>\n",
       "      <td>178.000000</td>\n",
       "      <td>178.000000</td>\n",
       "      <td>178.000000</td>\n",
       "    </tr>\n",
       "    <tr>\n",
       "      <th>mean</th>\n",
       "      <td>13.000618</td>\n",
       "      <td>2.336348</td>\n",
       "      <td>2.366517</td>\n",
       "      <td>19.494944</td>\n",
       "      <td>99.741573</td>\n",
       "      <td>2.295112</td>\n",
       "      <td>2.029270</td>\n",
       "      <td>0.361854</td>\n",
       "      <td>1.590899</td>\n",
       "      <td>5.058090</td>\n",
       "      <td>0.957449</td>\n",
       "      <td>2.611685</td>\n",
       "      <td>746.893258</td>\n",
       "    </tr>\n",
       "    <tr>\n",
       "      <th>std</th>\n",
       "      <td>0.811827</td>\n",
       "      <td>1.117146</td>\n",
       "      <td>0.274344</td>\n",
       "      <td>3.339564</td>\n",
       "      <td>14.282484</td>\n",
       "      <td>0.625851</td>\n",
       "      <td>0.998859</td>\n",
       "      <td>0.124453</td>\n",
       "      <td>0.572359</td>\n",
       "      <td>2.318286</td>\n",
       "      <td>0.228572</td>\n",
       "      <td>0.709990</td>\n",
       "      <td>314.907474</td>\n",
       "    </tr>\n",
       "    <tr>\n",
       "      <th>min</th>\n",
       "      <td>11.030000</td>\n",
       "      <td>0.740000</td>\n",
       "      <td>1.360000</td>\n",
       "      <td>10.600000</td>\n",
       "      <td>70.000000</td>\n",
       "      <td>0.980000</td>\n",
       "      <td>0.340000</td>\n",
       "      <td>0.130000</td>\n",
       "      <td>0.410000</td>\n",
       "      <td>1.280000</td>\n",
       "      <td>0.480000</td>\n",
       "      <td>1.270000</td>\n",
       "      <td>278.000000</td>\n",
       "    </tr>\n",
       "    <tr>\n",
       "      <th>25%</th>\n",
       "      <td>12.362500</td>\n",
       "      <td>1.602500</td>\n",
       "      <td>2.210000</td>\n",
       "      <td>17.200000</td>\n",
       "      <td>88.000000</td>\n",
       "      <td>1.742500</td>\n",
       "      <td>1.205000</td>\n",
       "      <td>0.270000</td>\n",
       "      <td>1.250000</td>\n",
       "      <td>3.220000</td>\n",
       "      <td>0.782500</td>\n",
       "      <td>1.937500</td>\n",
       "      <td>500.500000</td>\n",
       "    </tr>\n",
       "    <tr>\n",
       "      <th>50%</th>\n",
       "      <td>13.050000</td>\n",
       "      <td>1.865000</td>\n",
       "      <td>2.360000</td>\n",
       "      <td>19.500000</td>\n",
       "      <td>98.000000</td>\n",
       "      <td>2.355000</td>\n",
       "      <td>2.135000</td>\n",
       "      <td>0.340000</td>\n",
       "      <td>1.555000</td>\n",
       "      <td>4.690000</td>\n",
       "      <td>0.965000</td>\n",
       "      <td>2.780000</td>\n",
       "      <td>673.500000</td>\n",
       "    </tr>\n",
       "    <tr>\n",
       "      <th>75%</th>\n",
       "      <td>13.677500</td>\n",
       "      <td>3.082500</td>\n",
       "      <td>2.557500</td>\n",
       "      <td>21.500000</td>\n",
       "      <td>107.000000</td>\n",
       "      <td>2.800000</td>\n",
       "      <td>2.875000</td>\n",
       "      <td>0.437500</td>\n",
       "      <td>1.950000</td>\n",
       "      <td>6.200000</td>\n",
       "      <td>1.120000</td>\n",
       "      <td>3.170000</td>\n",
       "      <td>985.000000</td>\n",
       "    </tr>\n",
       "    <tr>\n",
       "      <th>max</th>\n",
       "      <td>14.830000</td>\n",
       "      <td>5.800000</td>\n",
       "      <td>3.230000</td>\n",
       "      <td>30.000000</td>\n",
       "      <td>162.000000</td>\n",
       "      <td>3.880000</td>\n",
       "      <td>5.080000</td>\n",
       "      <td>0.660000</td>\n",
       "      <td>3.580000</td>\n",
       "      <td>13.000000</td>\n",
       "      <td>1.710000</td>\n",
       "      <td>4.000000</td>\n",
       "      <td>1680.000000</td>\n",
       "    </tr>\n",
       "  </tbody>\n",
       "</table>\n",
       "</div>"
      ],
      "text/plain": [
       "          Alcohol  Malic_Acid         Ash  Ash_Alcanity   Magnesium  \\\n",
       "count  178.000000  178.000000  178.000000    178.000000  178.000000   \n",
       "mean    13.000618    2.336348    2.366517     19.494944   99.741573   \n",
       "std      0.811827    1.117146    0.274344      3.339564   14.282484   \n",
       "min     11.030000    0.740000    1.360000     10.600000   70.000000   \n",
       "25%     12.362500    1.602500    2.210000     17.200000   88.000000   \n",
       "50%     13.050000    1.865000    2.360000     19.500000   98.000000   \n",
       "75%     13.677500    3.082500    2.557500     21.500000  107.000000   \n",
       "max     14.830000    5.800000    3.230000     30.000000  162.000000   \n",
       "\n",
       "       Total_Phenols  Flavanoids  Nonflavanoid_Phenols  Proanthocyanins  \\\n",
       "count     178.000000  178.000000            178.000000       178.000000   \n",
       "mean        2.295112    2.029270              0.361854         1.590899   \n",
       "std         0.625851    0.998859              0.124453         0.572359   \n",
       "min         0.980000    0.340000              0.130000         0.410000   \n",
       "25%         1.742500    1.205000              0.270000         1.250000   \n",
       "50%         2.355000    2.135000              0.340000         1.555000   \n",
       "75%         2.800000    2.875000              0.437500         1.950000   \n",
       "max         3.880000    5.080000              0.660000         3.580000   \n",
       "\n",
       "       Color_Intensity         Hue       OD280      Proline  \n",
       "count       178.000000  178.000000  178.000000   178.000000  \n",
       "mean          5.058090    0.957449    2.611685   746.893258  \n",
       "std           2.318286    0.228572    0.709990   314.907474  \n",
       "min           1.280000    0.480000    1.270000   278.000000  \n",
       "25%           3.220000    0.782500    1.937500   500.500000  \n",
       "50%           4.690000    0.965000    2.780000   673.500000  \n",
       "75%           6.200000    1.120000    3.170000   985.000000  \n",
       "max          13.000000    1.710000    4.000000  1680.000000  "
      ]
     },
     "execution_count": 7,
     "metadata": {},
     "output_type": "execute_result"
    }
   ],
   "source": [
    "data.describe()"
   ]
  },
  {
   "cell_type": "markdown",
   "id": "86e6a17e",
   "metadata": {},
   "source": [
    "## <font color = brown> PCA before Scaling"
   ]
  },
  {
   "cell_type": "markdown",
   "id": "5ccd782c",
   "metadata": {},
   "source": [
    "#### Importing pca from sklearn"
   ]
  },
  {
   "cell_type": "code",
   "execution_count": 8,
   "id": "3fd82eba",
   "metadata": {},
   "outputs": [],
   "source": [
    "from sklearn.decomposition import PCA"
   ]
  },
  {
   "cell_type": "markdown",
   "id": "088100ec",
   "metadata": {},
   "source": [
    "#### Reducing the data features to 2 components"
   ]
  },
  {
   "cell_type": "code",
   "execution_count": 9,
   "id": "f547ec50",
   "metadata": {},
   "outputs": [
    {
     "data": {
      "text/html": [
       "<div>\n",
       "<style scoped>\n",
       "    .dataframe tbody tr th:only-of-type {\n",
       "        vertical-align: middle;\n",
       "    }\n",
       "\n",
       "    .dataframe tbody tr th {\n",
       "        vertical-align: top;\n",
       "    }\n",
       "\n",
       "    .dataframe thead th {\n",
       "        text-align: right;\n",
       "    }\n",
       "</style>\n",
       "<table border=\"1\" class=\"dataframe\">\n",
       "  <thead>\n",
       "    <tr style=\"text-align: right;\">\n",
       "      <th></th>\n",
       "      <th>PCA1</th>\n",
       "      <th>PCA2</th>\n",
       "    </tr>\n",
       "  </thead>\n",
       "  <tbody>\n",
       "    <tr>\n",
       "      <th>0</th>\n",
       "      <td>318.562979</td>\n",
       "      <td>21.492131</td>\n",
       "    </tr>\n",
       "    <tr>\n",
       "      <th>1</th>\n",
       "      <td>303.097420</td>\n",
       "      <td>-5.364718</td>\n",
       "    </tr>\n",
       "    <tr>\n",
       "      <th>2</th>\n",
       "      <td>438.061133</td>\n",
       "      <td>-6.537309</td>\n",
       "    </tr>\n",
       "    <tr>\n",
       "      <th>3</th>\n",
       "      <td>733.240139</td>\n",
       "      <td>0.192729</td>\n",
       "    </tr>\n",
       "    <tr>\n",
       "      <th>4</th>\n",
       "      <td>-11.571428</td>\n",
       "      <td>18.489995</td>\n",
       "    </tr>\n",
       "    <tr>\n",
       "      <th>5</th>\n",
       "      <td>703.231192</td>\n",
       "      <td>-0.332159</td>\n",
       "    </tr>\n",
       "    <tr>\n",
       "      <th>6</th>\n",
       "      <td>542.971581</td>\n",
       "      <td>-13.518967</td>\n",
       "    </tr>\n",
       "    <tr>\n",
       "      <th>7</th>\n",
       "      <td>548.401860</td>\n",
       "      <td>11.449432</td>\n",
       "    </tr>\n",
       "    <tr>\n",
       "      <th>8</th>\n",
       "      <td>298.036863</td>\n",
       "      <td>-8.180158</td>\n",
       "    </tr>\n",
       "    <tr>\n",
       "      <th>9</th>\n",
       "      <td>298.049553</td>\n",
       "      <td>-7.101543</td>\n",
       "    </tr>\n",
       "  </tbody>\n",
       "</table>\n",
       "</div>"
      ],
      "text/plain": [
       "         PCA1       PCA2\n",
       "0  318.562979  21.492131\n",
       "1  303.097420  -5.364718\n",
       "2  438.061133  -6.537309\n",
       "3  733.240139   0.192729\n",
       "4  -11.571428  18.489995\n",
       "5  703.231192  -0.332159\n",
       "6  542.971581 -13.518967\n",
       "7  548.401860  11.449432\n",
       "8  298.036863  -8.180158\n",
       "9  298.049553  -7.101543"
      ]
     },
     "execution_count": 9,
     "metadata": {},
     "output_type": "execute_result"
    }
   ],
   "source": [
    "pca = PCA(n_components = 2)\n",
    "df = pca.fit_transform(data)\n",
    "df = pd.DataFrame(df, columns = ['PCA1', 'PCA2'])\n",
    "df.head(10)"
   ]
  },
  {
   "cell_type": "markdown",
   "id": "f572c50c",
   "metadata": {},
   "source": [
    "## <font color = brown> K-Means Clustering before scaling"
   ]
  },
  {
   "cell_type": "markdown",
   "id": "bc60a423",
   "metadata": {},
   "source": [
    "#### Importing KMeans from sklearn"
   ]
  },
  {
   "cell_type": "code",
   "execution_count": 10,
   "id": "d2daa1b5",
   "metadata": {},
   "outputs": [],
   "source": [
    "from sklearn.cluster import KMeans"
   ]
  },
  {
   "cell_type": "code",
   "execution_count": 11,
   "id": "032f245f",
   "metadata": {},
   "outputs": [],
   "source": [
    "x = df.values"
   ]
  },
  {
   "cell_type": "code",
   "execution_count": 12,
   "id": "08f8f090",
   "metadata": {},
   "outputs": [],
   "source": [
    "data1 = df.copy()"
   ]
  },
  {
   "cell_type": "markdown",
   "id": "79ef454a",
   "metadata": {},
   "source": [
    "#### Importing silhouette score from sklearn"
   ]
  },
  {
   "cell_type": "code",
   "execution_count": 13,
   "id": "ef90a146",
   "metadata": {},
   "outputs": [],
   "source": [
    "from sklearn.metrics import silhouette_score"
   ]
  },
  {
   "cell_type": "markdown",
   "id": "e57e575b",
   "metadata": {},
   "source": [
    "#### Defining a function to find the optimum number of clusters using the elbow method"
   ]
  },
  {
   "cell_type": "code",
   "execution_count": 14,
   "id": "5b759ff3",
   "metadata": {},
   "outputs": [],
   "source": [
    "def kmeanscluster(x):\n",
    "    wcss = []\n",
    "    for i in range(1,11):\n",
    "        kmeans = KMeans(n_clusters = i, init = 'k-means++', random_state = 42)\n",
    "        kmeans.fit(x)\n",
    "        wcss.append(kmeans.inertia_)\n",
    "    plt.plot(range(1,11), wcss)\n",
    "    plt.title('Elbow Method')\n",
    "    plt.xlabel('Number of Clusters')\n",
    "    plt.ylabel('wcss')\n",
    "    plt.show()"
   ]
  },
  {
   "cell_type": "markdown",
   "id": "7b516d1c",
   "metadata": {},
   "source": [
    "#### Calling the kmeanscluster function before scaling"
   ]
  },
  {
   "cell_type": "code",
   "execution_count": 15,
   "id": "8c72f748",
   "metadata": {},
   "outputs": [
    {
     "data": {
      "image/png": "[encoded data removed]",
      "text/plain": [
       "<Figure size 640x480 with 1 Axes>"
      ]
     },
     "metadata": {},
     "output_type": "display_data"
    }
   ],
   "source": [
    "kmeanscluster(x)"
   ]
  },
  {
   "cell_type": "markdown",
   "id": "11901d54",
   "metadata": {},
   "source": [
    "##### <font color = violet> We can see that after n_clusters = 3, there is no signiifcant drop in the wcss value. So we can take optimum number of clusters as 3."
   ]
  },
  {
   "cell_type": "markdown",
   "id": "e78abf26",
   "metadata": {},
   "source": [
    "#### Clustering the dataset using optimum number of clusters by kmeans and plotting it"
   ]
  },
  {
   "cell_type": "code",
   "execution_count": 16,
   "id": "ac2f9029",
   "metadata": {},
   "outputs": [
    {
     "data": {
      "image/png": "[encoded data removed]",
      "text/plain": [
       "<Figure size 640x480 with 1 Axes>"
      ]
     },
     "metadata": {},
     "output_type": "display_data"
    }
   ],
   "source": [
    "kmeans = KMeans(n_clusters = 3, init = 'k-means++', random_state = 42)\n",
    "y_kmeans = kmeans.fit_predict(x)\n",
    "plt.scatter(x[y_kmeans == 0,0], x[y_kmeans == 0,1], s = 30, c = 'red', label = 'Cluster 1', marker = 'o')\n",
    "plt.scatter(x[y_kmeans == 1,0], x[y_kmeans == 1,1], s = 30, c = 'blue', label = 'Cluster 2', marker = 's')\n",
    "plt.scatter(x[y_kmeans == 2,0], x[y_kmeans == 2,1], s = 30, c = 'green', label = 'Cluster 3', marker = 'v')\n",
    "plt.title('Cluster of Wine')\n",
    "plt.legend()\n",
    "plt.show()"
   ]
  },
  {
   "cell_type": "markdown",
   "id": "2acfd9e7",
   "metadata": {},
   "source": [
    "#### Adding a column \"Cluster\" into the dataframe data1"
   ]
  },
  {
   "cell_type": "code",
   "execution_count": 17,
   "id": "f47a48be",
   "metadata": {},
   "outputs": [
    {
     "data": {
      "text/html": [
       "<div>\n",
       "<style scoped>\n",
       "    .dataframe tbody tr th:only-of-type {\n",
       "        vertical-align: middle;\n",
       "    }\n",
       "\n",
       "    .dataframe tbody tr th {\n",
       "        vertical-align: top;\n",
       "    }\n",
       "\n",
       "    .dataframe thead th {\n",
       "        text-align: right;\n",
       "    }\n",
       "</style>\n",
       "<table border=\"1\" class=\"dataframe\">\n",
       "  <thead>\n",
       "    <tr style=\"text-align: right;\">\n",
       "      <th></th>\n",
       "      <th>PCA1</th>\n",
       "      <th>PCA2</th>\n",
       "      <th>Cluster</th>\n",
       "    </tr>\n",
       "  </thead>\n",
       "  <tbody>\n",
       "    <tr>\n",
       "      <th>0</th>\n",
       "      <td>318.562979</td>\n",
       "      <td>21.492131</td>\n",
       "      <td>1</td>\n",
       "    </tr>\n",
       "    <tr>\n",
       "      <th>1</th>\n",
       "      <td>303.097420</td>\n",
       "      <td>-5.364718</td>\n",
       "      <td>1</td>\n",
       "    </tr>\n",
       "    <tr>\n",
       "      <th>2</th>\n",
       "      <td>438.061133</td>\n",
       "      <td>-6.537309</td>\n",
       "      <td>1</td>\n",
       "    </tr>\n",
       "    <tr>\n",
       "      <th>3</th>\n",
       "      <td>733.240139</td>\n",
       "      <td>0.192729</td>\n",
       "      <td>1</td>\n",
       "    </tr>\n",
       "    <tr>\n",
       "      <th>4</th>\n",
       "      <td>-11.571428</td>\n",
       "      <td>18.489995</td>\n",
       "      <td>2</td>\n",
       "    </tr>\n",
       "    <tr>\n",
       "      <th>5</th>\n",
       "      <td>703.231192</td>\n",
       "      <td>-0.332159</td>\n",
       "      <td>1</td>\n",
       "    </tr>\n",
       "    <tr>\n",
       "      <th>6</th>\n",
       "      <td>542.971581</td>\n",
       "      <td>-13.518967</td>\n",
       "      <td>1</td>\n",
       "    </tr>\n",
       "    <tr>\n",
       "      <th>7</th>\n",
       "      <td>548.401860</td>\n",
       "      <td>11.449432</td>\n",
       "      <td>1</td>\n",
       "    </tr>\n",
       "    <tr>\n",
       "      <th>8</th>\n",
       "      <td>298.036863</td>\n",
       "      <td>-8.180158</td>\n",
       "      <td>1</td>\n",
       "    </tr>\n",
       "    <tr>\n",
       "      <th>9</th>\n",
       "      <td>298.049553</td>\n",
       "      <td>-7.101543</td>\n",
       "      <td>1</td>\n",
       "    </tr>\n",
       "  </tbody>\n",
       "</table>\n",
       "</div>"
      ],
      "text/plain": [
       "         PCA1       PCA2  Cluster\n",
       "0  318.562979  21.492131        1\n",
       "1  303.097420  -5.364718        1\n",
       "2  438.061133  -6.537309        1\n",
       "3  733.240139   0.192729        1\n",
       "4  -11.571428  18.489995        2\n",
       "5  703.231192  -0.332159        1\n",
       "6  542.971581 -13.518967        1\n",
       "7  548.401860  11.449432        1\n",
       "8  298.036863  -8.180158        1\n",
       "9  298.049553  -7.101543        1"
      ]
     },
     "execution_count": 17,
     "metadata": {},
     "output_type": "execute_result"
    }
   ],
   "source": [
    "data1['Cluster'] = kmeans.labels_\n",
    "data1.head(10)"
   ]
  },
  {
   "cell_type": "markdown",
   "id": "6652d42c",
   "metadata": {},
   "source": [
    "#### Finding Silhouette score of kmeans before scaling"
   ]
  },
  {
   "cell_type": "code",
   "execution_count": 18,
   "id": "99ef9899",
   "metadata": {},
   "outputs": [
    {
     "name": "stdout",
     "output_type": "stream",
     "text": [
      "Silhouette score of kmeans before scaling = 0.5722554756855064\n"
     ]
    }
   ],
   "source": [
    "print('Silhouette score of kmeans before scaling =', silhouette_score(x, y_kmeans))"
   ]
  },
  {
   "cell_type": "markdown",
   "id": "9283ab59",
   "metadata": {},
   "source": [
    "## <font color = brown> Hierarchial Clustering before scaling"
   ]
  },
  {
   "cell_type": "markdown",
   "id": "e08cccac",
   "metadata": {},
   "source": [
    "#### Importing hierarchy from scipy"
   ]
  },
  {
   "cell_type": "code",
   "execution_count": 19,
   "id": "b371398d",
   "metadata": {},
   "outputs": [],
   "source": [
    "import scipy.cluster.hierarchy as sch"
   ]
  },
  {
   "cell_type": "code",
   "execution_count": 20,
   "id": "48e7dabd",
   "metadata": {},
   "outputs": [],
   "source": [
    "data2 = df.copy()"
   ]
  },
  {
   "cell_type": "markdown",
   "id": "76866c50",
   "metadata": {},
   "source": [
    "#### Defining a function to find the optimum number of clusters using dendrogram"
   ]
  },
  {
   "cell_type": "code",
   "execution_count": 21,
   "id": "a91c962f",
   "metadata": {},
   "outputs": [],
   "source": [
    "def dendrogram(x):\n",
    "    dendrogram = sch.dendrogram(sch.linkage(x, method = 'ward'))\n",
    "    plt.title('Dendrogram')\n",
    "    plt.ylabel('Euclidean Distance')\n",
    "    plt.show()"
   ]
  },
  {
   "cell_type": "markdown",
   "id": "022b3e69",
   "metadata": {},
   "source": [
    "#### Calling the dendrogram function before scaling"
   ]
  },
  {
   "cell_type": "code",
   "execution_count": 22,
   "id": "3cd73c3b",
   "metadata": {},
   "outputs": [
    {
     "data": {
      "image/png": "[encoded data removed]",
      "text/plain": [
       "<Figure size 640x480 with 1 Axes>"
      ]
     },
     "metadata": {},
     "output_type": "display_data"
    }
   ],
   "source": [
    "dendrogram(x)"
   ]
  },
  {
   "cell_type": "markdown",
   "id": "dd3047b6",
   "metadata": {},
   "source": [
    "##### <font color = violet> We can see that the optimum number of clusters using the dendrogram is 2."
   ]
  },
  {
   "cell_type": "markdown",
   "id": "26279612",
   "metadata": {},
   "source": [
    "#### Imporing AgglomerativeClustering from sklearn"
   ]
  },
  {
   "cell_type": "code",
   "execution_count": 23,
   "id": "d89bbee7",
   "metadata": {},
   "outputs": [],
   "source": [
    "from sklearn.cluster import AgglomerativeClustering"
   ]
  },
  {
   "cell_type": "markdown",
   "id": "1d8d9d63",
   "metadata": {},
   "source": [
    "####  Clustering the dataset using optimum number of clusters by Agglomerative Clustering and plotting it"
   ]
  },
  {
   "cell_type": "code",
   "execution_count": 24,
   "id": "cc4b67c0",
   "metadata": {},
   "outputs": [
    {
     "data": {
      "image/png": "[encoded data removed]",
      "text/plain": [
       "<Figure size 640x480 with 1 Axes>"
      ]
     },
     "metadata": {},
     "output_type": "display_data"
    }
   ],
   "source": [
    "hc = AgglomerativeClustering(n_clusters = 2, affinity = 'euclidean', linkage = 'ward')\n",
    "y_hc = hc.fit_predict(x)\n",
    "plt.scatter(x[y_hc == 0, 0], x[y_hc == 0, 1], s = 30, c = 'red', label = 'Cluster 1', marker = 'o')\n",
    "plt.scatter(x[y_hc == 1, 0], x[y_hc == 1, 1], s = 30, c = 'blue', label = 'Cluster 2', marker = 's')\n",
    "plt.title('Cluster of Wine')\n",
    "plt.legend()\n",
    "plt.show()"
   ]
  },
  {
   "cell_type": "markdown",
   "id": "8d2251de",
   "metadata": {},
   "source": [
    "#### Adding a column \"Cluster\" into the dataframe data2"
   ]
  },
  {
   "cell_type": "code",
   "execution_count": 25,
   "id": "51db63c9",
   "metadata": {},
   "outputs": [
    {
     "data": {
      "text/html": [
       "<div>\n",
       "<style scoped>\n",
       "    .dataframe tbody tr th:only-of-type {\n",
       "        vertical-align: middle;\n",
       "    }\n",
       "\n",
       "    .dataframe tbody tr th {\n",
       "        vertical-align: top;\n",
       "    }\n",
       "\n",
       "    .dataframe thead th {\n",
       "        text-align: right;\n",
       "    }\n",
       "</style>\n",
       "<table border=\"1\" class=\"dataframe\">\n",
       "  <thead>\n",
       "    <tr style=\"text-align: right;\">\n",
       "      <th></th>\n",
       "      <th>PCA1</th>\n",
       "      <th>PCA2</th>\n",
       "      <th>Cluster</th>\n",
       "    </tr>\n",
       "  </thead>\n",
       "  <tbody>\n",
       "    <tr>\n",
       "      <th>0</th>\n",
       "      <td>318.562979</td>\n",
       "      <td>21.492131</td>\n",
       "      <td>1</td>\n",
       "    </tr>\n",
       "    <tr>\n",
       "      <th>1</th>\n",
       "      <td>303.097420</td>\n",
       "      <td>-5.364718</td>\n",
       "      <td>1</td>\n",
       "    </tr>\n",
       "    <tr>\n",
       "      <th>2</th>\n",
       "      <td>438.061133</td>\n",
       "      <td>-6.537309</td>\n",
       "      <td>1</td>\n",
       "    </tr>\n",
       "    <tr>\n",
       "      <th>3</th>\n",
       "      <td>733.240139</td>\n",
       "      <td>0.192729</td>\n",
       "      <td>1</td>\n",
       "    </tr>\n",
       "    <tr>\n",
       "      <th>4</th>\n",
       "      <td>-11.571428</td>\n",
       "      <td>18.489995</td>\n",
       "      <td>0</td>\n",
       "    </tr>\n",
       "    <tr>\n",
       "      <th>5</th>\n",
       "      <td>703.231192</td>\n",
       "      <td>-0.332159</td>\n",
       "      <td>1</td>\n",
       "    </tr>\n",
       "    <tr>\n",
       "      <th>6</th>\n",
       "      <td>542.971581</td>\n",
       "      <td>-13.518967</td>\n",
       "      <td>1</td>\n",
       "    </tr>\n",
       "    <tr>\n",
       "      <th>7</th>\n",
       "      <td>548.401860</td>\n",
       "      <td>11.449432</td>\n",
       "      <td>1</td>\n",
       "    </tr>\n",
       "    <tr>\n",
       "      <th>8</th>\n",
       "      <td>298.036863</td>\n",
       "      <td>-8.180158</td>\n",
       "      <td>1</td>\n",
       "    </tr>\n",
       "    <tr>\n",
       "      <th>9</th>\n",
       "      <td>298.049553</td>\n",
       "      <td>-7.101543</td>\n",
       "      <td>1</td>\n",
       "    </tr>\n",
       "  </tbody>\n",
       "</table>\n",
       "</div>"
      ],
      "text/plain": [
       "         PCA1       PCA2  Cluster\n",
       "0  318.562979  21.492131        1\n",
       "1  303.097420  -5.364718        1\n",
       "2  438.061133  -6.537309        1\n",
       "3  733.240139   0.192729        1\n",
       "4  -11.571428  18.489995        0\n",
       "5  703.231192  -0.332159        1\n",
       "6  542.971581 -13.518967        1\n",
       "7  548.401860  11.449432        1\n",
       "8  298.036863  -8.180158        1\n",
       "9  298.049553  -7.101543        1"
      ]
     },
     "execution_count": 25,
     "metadata": {},
     "output_type": "execute_result"
    }
   ],
   "source": [
    "data2['Cluster'] = hc.labels_\n",
    "data2.head(10)"
   ]
  },
  {
   "cell_type": "markdown",
   "id": "50cc8ad3",
   "metadata": {},
   "source": [
    "#### Finding Silhouette score of Agglomerative Clustering before scaling"
   ]
  },
  {
   "cell_type": "code",
   "execution_count": 26,
   "id": "8c285839",
   "metadata": {},
   "outputs": [
    {
     "name": "stdout",
     "output_type": "stream",
     "text": [
      "Silhouette score of Agglomerative Clustering before scaling = 0.6590718062960336\n"
     ]
    }
   ],
   "source": [
    "print('Silhouette score of Agglomerative Clustering before scaling =', silhouette_score(x, y_hc))"
   ]
  },
  {
   "cell_type": "markdown",
   "id": "e75f2763",
   "metadata": {},
   "source": [
    "## <font color = brown> DBSCAN Clustering before Scaling"
   ]
  },
  {
   "cell_type": "markdown",
   "id": "7e9dc9ff",
   "metadata": {},
   "source": [
    "#### Importing DBSCAN from sklearn"
   ]
  },
  {
   "cell_type": "code",
   "execution_count": 27,
   "id": "89219a91",
   "metadata": {},
   "outputs": [],
   "source": [
    "from sklearn.cluster import DBSCAN"
   ]
  },
  {
   "cell_type": "code",
   "execution_count": 28,
   "id": "b1165d98",
   "metadata": {},
   "outputs": [],
   "source": [
    "data3 = df.copy()"
   ]
  },
  {
   "cell_type": "markdown",
   "id": "e0441ff0",
   "metadata": {},
   "source": [
    "#### Importing NearestNeighbors from sklearn"
   ]
  },
  {
   "cell_type": "code",
   "execution_count": 29,
   "id": "52ecbcca",
   "metadata": {},
   "outputs": [],
   "source": [
    "from sklearn.neighbors import NearestNeighbors"
   ]
  },
  {
   "cell_type": "markdown",
   "id": "588e20b0",
   "metadata": {},
   "source": [
    "#### Defining a function to compute data proximity from each other using Nearest Neighbours"
   ]
  },
  {
   "cell_type": "code",
   "execution_count": 30,
   "id": "55ca85cc",
   "metadata": {},
   "outputs": [],
   "source": [
    "def neighbors(x):\n",
    "    neighbor = NearestNeighbors(n_neighbors = 5)\n",
    "    nbrs = neighbor.fit(x)\n",
    "    distances, index = nbrs.kneighbors(x)     # finding the nearest neighbours\n",
    "    distances = np.sort(distances, axis = 0)  # sorting the distances\n",
    "    dist = distances[:, 1]                    # taking the second column of the sorted distances\n",
    "    plt.plot(dist)                            # plotting the distances\n",
    "    plt.show()"
   ]
  },
  {
   "cell_type": "markdown",
   "id": "d8a01843",
   "metadata": {},
   "source": [
    "#### Calling the neighbors function before scaling"
   ]
  },
  {
   "cell_type": "code",
   "execution_count": 31,
   "id": "87cb642d",
   "metadata": {},
   "outputs": [
    {
     "data": {
      "image/png": "[encoded data removed]",
      "text/plain": [
       "<Figure size 640x480 with 1 Axes>"
      ]
     },
     "metadata": {},
     "output_type": "display_data"
    }
   ],
   "source": [
    "neighbors(x)"
   ]
  },
  {
   "cell_type": "markdown",
   "id": "919ade94",
   "metadata": {},
   "source": [
    "##### <font color = violet> From the above plot, we note the maximum curvature of the curve is about 35, and thus we picked our eps as 35."
   ]
  },
  {
   "cell_type": "markdown",
   "id": "7a164fd4",
   "metadata": {},
   "source": [
    "#### Clustering the dataset using DBSCAN before scaling"
   ]
  },
  {
   "cell_type": "code",
   "execution_count": 32,
   "id": "fc9be88c",
   "metadata": {},
   "outputs": [],
   "source": [
    "dbscan = DBSCAN(eps = 35, min_samples = 4)\n",
    "y_db = dbscan.fit_predict(x)"
   ]
  },
  {
   "cell_type": "markdown",
   "id": "e3b666fe",
   "metadata": {},
   "source": [
    "#### Adding a column \"Cluster\" into the dataframe data3"
   ]
  },
  {
   "cell_type": "code",
   "execution_count": 33,
   "id": "d9f8f7d4",
   "metadata": {},
   "outputs": [
    {
     "data": {
      "text/html": [
       "<div>\n",
       "<style scoped>\n",
       "    .dataframe tbody tr th:only-of-type {\n",
       "        vertical-align: middle;\n",
       "    }\n",
       "\n",
       "    .dataframe tbody tr th {\n",
       "        vertical-align: top;\n",
       "    }\n",
       "\n",
       "    .dataframe thead th {\n",
       "        text-align: right;\n",
       "    }\n",
       "</style>\n",
       "<table border=\"1\" class=\"dataframe\">\n",
       "  <thead>\n",
       "    <tr style=\"text-align: right;\">\n",
       "      <th></th>\n",
       "      <th>PCA1</th>\n",
       "      <th>PCA2</th>\n",
       "      <th>Cluster</th>\n",
       "    </tr>\n",
       "  </thead>\n",
       "  <tbody>\n",
       "    <tr>\n",
       "      <th>0</th>\n",
       "      <td>318.562979</td>\n",
       "      <td>21.492131</td>\n",
       "      <td>0</td>\n",
       "    </tr>\n",
       "    <tr>\n",
       "      <th>1</th>\n",
       "      <td>303.097420</td>\n",
       "      <td>-5.364718</td>\n",
       "      <td>0</td>\n",
       "    </tr>\n",
       "    <tr>\n",
       "      <th>2</th>\n",
       "      <td>438.061133</td>\n",
       "      <td>-6.537309</td>\n",
       "      <td>-1</td>\n",
       "    </tr>\n",
       "    <tr>\n",
       "      <th>3</th>\n",
       "      <td>733.240139</td>\n",
       "      <td>0.192729</td>\n",
       "      <td>-1</td>\n",
       "    </tr>\n",
       "    <tr>\n",
       "      <th>4</th>\n",
       "      <td>-11.571428</td>\n",
       "      <td>18.489995</td>\n",
       "      <td>1</td>\n",
       "    </tr>\n",
       "    <tr>\n",
       "      <th>5</th>\n",
       "      <td>703.231192</td>\n",
       "      <td>-0.332159</td>\n",
       "      <td>-1</td>\n",
       "    </tr>\n",
       "    <tr>\n",
       "      <th>6</th>\n",
       "      <td>542.971581</td>\n",
       "      <td>-13.518967</td>\n",
       "      <td>2</td>\n",
       "    </tr>\n",
       "    <tr>\n",
       "      <th>7</th>\n",
       "      <td>548.401860</td>\n",
       "      <td>11.449432</td>\n",
       "      <td>2</td>\n",
       "    </tr>\n",
       "    <tr>\n",
       "      <th>8</th>\n",
       "      <td>298.036863</td>\n",
       "      <td>-8.180158</td>\n",
       "      <td>0</td>\n",
       "    </tr>\n",
       "    <tr>\n",
       "      <th>9</th>\n",
       "      <td>298.049553</td>\n",
       "      <td>-7.101543</td>\n",
       "      <td>0</td>\n",
       "    </tr>\n",
       "  </tbody>\n",
       "</table>\n",
       "</div>"
      ],
      "text/plain": [
       "         PCA1       PCA2  Cluster\n",
       "0  318.562979  21.492131        0\n",
       "1  303.097420  -5.364718        0\n",
       "2  438.061133  -6.537309       -1\n",
       "3  733.240139   0.192729       -1\n",
       "4  -11.571428  18.489995        1\n",
       "5  703.231192  -0.332159       -1\n",
       "6  542.971581 -13.518967        2\n",
       "7  548.401860  11.449432        2\n",
       "8  298.036863  -8.180158        0\n",
       "9  298.049553  -7.101543        0"
      ]
     },
     "execution_count": 33,
     "metadata": {},
     "output_type": "execute_result"
    }
   ],
   "source": [
    "data3['Cluster'] = dbscan.labels_\n",
    "data3.head(10)"
   ]
  },
  {
   "cell_type": "markdown",
   "id": "7d5fd723",
   "metadata": {},
   "source": [
    "#### Finding unique values in the \"Cluster\" column of data3"
   ]
  },
  {
   "cell_type": "code",
   "execution_count": 34,
   "id": "0d251b16",
   "metadata": {},
   "outputs": [
    {
     "data": {
      "text/plain": [
       "array([ 0, -1,  1,  2,  3], dtype=int64)"
      ]
     },
     "execution_count": 34,
     "metadata": {},
     "output_type": "execute_result"
    }
   ],
   "source": [
    "data3.Cluster.unique()"
   ]
  },
  {
   "cell_type": "markdown",
   "id": "da26fe92",
   "metadata": {},
   "source": [
    "##### <font color = violet> The number of clusters using DBSCAN before scaling is 5."
   ]
  },
  {
   "cell_type": "markdown",
   "id": "2e3b2412",
   "metadata": {},
   "source": [
    "#### Plotting the clusters using DBSCAN before scaling"
   ]
  },
  {
   "cell_type": "code",
   "execution_count": 35,
   "id": "81f66288",
   "metadata": {},
   "outputs": [
    {
     "data": {
      "image/png": "[encoded data removed]",
      "text/plain": [
       "<Figure size 640x480 with 1 Axes>"
      ]
     },
     "metadata": {},
     "output_type": "display_data"
    }
   ],
   "source": [
    "plt.scatter(x[y_db == 0,0], x[y_db == 0,1], s = 30, c = 'red', label = 'Cluster 0', marker = 'o')\n",
    "plt.scatter(x[y_db == -1,0], x[y_db == -1,1], s = 30, c = 'blue', label = 'Cluster -1', marker = 's')\n",
    "plt.scatter(x[y_db == 1,0], x[y_db == 1,1], s = 30, c = 'green', label = 'Cluster 1', marker = 'v')\n",
    "plt.scatter(x[y_db == 2,0], x[y_db == 2,1], s = 30, c = 'magenta', label = 'Cluster 2', marker = '^')\n",
    "plt.scatter(x[y_db == 3,0], x[y_db == 3,1], s = 30, c = 'brown', label = 'Cluster 3', marker = 'd')\n",
    "plt.title('Cluster of Wine')\n",
    "plt.legend()\n",
    "plt.show()"
   ]
  },
  {
   "cell_type": "markdown",
   "id": "8ccbb37b",
   "metadata": {},
   "source": [
    "####  Finding Silhouette score of DBSCAN before scaling"
   ]
  },
  {
   "cell_type": "code",
   "execution_count": 36,
   "id": "5a02395e",
   "metadata": {},
   "outputs": [
    {
     "name": "stdout",
     "output_type": "stream",
     "text": [
      "Silhouette score of DBSCAN before scaling = 0.44927187629502785\n"
     ]
    }
   ],
   "source": [
    "print('Silhouette score of DBSCAN before scaling =', silhouette_score(x, y_db))"
   ]
  },
  {
   "cell_type": "markdown",
   "id": "5029586a",
   "metadata": {},
   "source": [
    "# <font color = #e30b5d> Standard Scaling"
   ]
  },
  {
   "cell_type": "markdown",
   "id": "e6a5d087",
   "metadata": {},
   "source": [
    "#### Importing Standard Scaler from sklearn"
   ]
  },
  {
   "cell_type": "code",
   "execution_count": 37,
   "id": "f6ead38c",
   "metadata": {},
   "outputs": [],
   "source": [
    "from sklearn.preprocessing import StandardScaler\n",
    "std = StandardScaler()"
   ]
  },
  {
   "cell_type": "markdown",
   "id": "599b75a4",
   "metadata": {},
   "source": [
    "#### Scaling the original dataset and coverting it into Dataframe"
   ]
  },
  {
   "cell_type": "code",
   "execution_count": 38,
   "id": "03d53193",
   "metadata": {},
   "outputs": [
    {
     "data": {
      "text/html": [
       "<div>\n",
       "<style scoped>\n",
       "    .dataframe tbody tr th:only-of-type {\n",
       "        vertical-align: middle;\n",
       "    }\n",
       "\n",
       "    .dataframe tbody tr th {\n",
       "        vertical-align: top;\n",
       "    }\n",
       "\n",
       "    .dataframe thead th {\n",
       "        text-align: right;\n",
       "    }\n",
       "</style>\n",
       "<table border=\"1\" class=\"dataframe\">\n",
       "  <thead>\n",
       "    <tr style=\"text-align: right;\">\n",
       "      <th></th>\n",
       "      <th>Alcohol</th>\n",
       "      <th>Malic_Acid</th>\n",
       "      <th>Ash</th>\n",
       "      <th>Ash_Alcanity</th>\n",
       "      <th>Magnesium</th>\n",
       "      <th>Total_Phenols</th>\n",
       "      <th>Flavanoids</th>\n",
       "      <th>Nonflavanoid_Phenols</th>\n",
       "      <th>Proanthocyanins</th>\n",
       "      <th>Color_Intensity</th>\n",
       "      <th>Hue</th>\n",
       "      <th>OD280</th>\n",
       "      <th>Proline</th>\n",
       "    </tr>\n",
       "  </thead>\n",
       "  <tbody>\n",
       "    <tr>\n",
       "      <th>count</th>\n",
       "      <td>1.780000e+02</td>\n",
       "      <td>1.780000e+02</td>\n",
       "      <td>1.780000e+02</td>\n",
       "      <td>1.780000e+02</td>\n",
       "      <td>1.780000e+02</td>\n",
       "      <td>178.000000</td>\n",
       "      <td>1.780000e+02</td>\n",
       "      <td>1.780000e+02</td>\n",
       "      <td>1.780000e+02</td>\n",
       "      <td>1.780000e+02</td>\n",
       "      <td>1.780000e+02</td>\n",
       "      <td>1.780000e+02</td>\n",
       "      <td>1.780000e+02</td>\n",
       "    </tr>\n",
       "    <tr>\n",
       "      <th>mean</th>\n",
       "      <td>-8.382808e-16</td>\n",
       "      <td>-1.197544e-16</td>\n",
       "      <td>-8.370333e-16</td>\n",
       "      <td>-3.991813e-17</td>\n",
       "      <td>-3.991813e-17</td>\n",
       "      <td>0.000000</td>\n",
       "      <td>-3.991813e-16</td>\n",
       "      <td>3.592632e-16</td>\n",
       "      <td>-1.197544e-16</td>\n",
       "      <td>2.494883e-17</td>\n",
       "      <td>1.995907e-16</td>\n",
       "      <td>3.193450e-16</td>\n",
       "      <td>-1.596725e-16</td>\n",
       "    </tr>\n",
       "    <tr>\n",
       "      <th>std</th>\n",
       "      <td>1.002821e+00</td>\n",
       "      <td>1.002821e+00</td>\n",
       "      <td>1.002821e+00</td>\n",
       "      <td>1.002821e+00</td>\n",
       "      <td>1.002821e+00</td>\n",
       "      <td>1.002821</td>\n",
       "      <td>1.002821e+00</td>\n",
       "      <td>1.002821e+00</td>\n",
       "      <td>1.002821e+00</td>\n",
       "      <td>1.002821e+00</td>\n",
       "      <td>1.002821e+00</td>\n",
       "      <td>1.002821e+00</td>\n",
       "      <td>1.002821e+00</td>\n",
       "    </tr>\n",
       "    <tr>\n",
       "      <th>min</th>\n",
       "      <td>-2.434235e+00</td>\n",
       "      <td>-1.432983e+00</td>\n",
       "      <td>-3.679162e+00</td>\n",
       "      <td>-2.671018e+00</td>\n",
       "      <td>-2.088255e+00</td>\n",
       "      <td>-2.107246</td>\n",
       "      <td>-1.695971e+00</td>\n",
       "      <td>-1.868234e+00</td>\n",
       "      <td>-2.069034e+00</td>\n",
       "      <td>-1.634288e+00</td>\n",
       "      <td>-2.094732e+00</td>\n",
       "      <td>-1.895054e+00</td>\n",
       "      <td>-1.493188e+00</td>\n",
       "    </tr>\n",
       "    <tr>\n",
       "      <th>25%</th>\n",
       "      <td>-7.882448e-01</td>\n",
       "      <td>-6.587486e-01</td>\n",
       "      <td>-5.721225e-01</td>\n",
       "      <td>-6.891372e-01</td>\n",
       "      <td>-8.244151e-01</td>\n",
       "      <td>-0.885468</td>\n",
       "      <td>-8.275393e-01</td>\n",
       "      <td>-7.401412e-01</td>\n",
       "      <td>-5.972835e-01</td>\n",
       "      <td>-7.951025e-01</td>\n",
       "      <td>-7.675624e-01</td>\n",
       "      <td>-9.522483e-01</td>\n",
       "      <td>-7.846378e-01</td>\n",
       "    </tr>\n",
       "    <tr>\n",
       "      <th>50%</th>\n",
       "      <td>6.099988e-02</td>\n",
       "      <td>-4.231120e-01</td>\n",
       "      <td>-2.382132e-02</td>\n",
       "      <td>1.518295e-03</td>\n",
       "      <td>-1.222817e-01</td>\n",
       "      <td>0.095960</td>\n",
       "      <td>1.061497e-01</td>\n",
       "      <td>-1.760948e-01</td>\n",
       "      <td>-6.289785e-02</td>\n",
       "      <td>-1.592246e-01</td>\n",
       "      <td>3.312687e-02</td>\n",
       "      <td>2.377348e-01</td>\n",
       "      <td>-2.337204e-01</td>\n",
       "    </tr>\n",
       "    <tr>\n",
       "      <th>75%</th>\n",
       "      <td>8.361286e-01</td>\n",
       "      <td>6.697929e-01</td>\n",
       "      <td>6.981085e-01</td>\n",
       "      <td>6.020883e-01</td>\n",
       "      <td>5.096384e-01</td>\n",
       "      <td>0.808997</td>\n",
       "      <td>8.490851e-01</td>\n",
       "      <td>6.095413e-01</td>\n",
       "      <td>6.291754e-01</td>\n",
       "      <td>4.939560e-01</td>\n",
       "      <td>7.131644e-01</td>\n",
       "      <td>7.885875e-01</td>\n",
       "      <td>7.582494e-01</td>\n",
       "    </tr>\n",
       "    <tr>\n",
       "      <th>max</th>\n",
       "      <td>2.259772e+00</td>\n",
       "      <td>3.109192e+00</td>\n",
       "      <td>3.156325e+00</td>\n",
       "      <td>3.154511e+00</td>\n",
       "      <td>4.371372e+00</td>\n",
       "      <td>2.539515</td>\n",
       "      <td>3.062832e+00</td>\n",
       "      <td>2.402403e+00</td>\n",
       "      <td>3.485073e+00</td>\n",
       "      <td>3.435432e+00</td>\n",
       "      <td>3.301694e+00</td>\n",
       "      <td>1.960915e+00</td>\n",
       "      <td>2.971473e+00</td>\n",
       "    </tr>\n",
       "  </tbody>\n",
       "</table>\n",
       "</div>"
      ],
      "text/plain": [
       "            Alcohol    Malic_Acid           Ash  Ash_Alcanity     Magnesium  \\\n",
       "count  1.780000e+02  1.780000e+02  1.780000e+02  1.780000e+02  1.780000e+02   \n",
       "mean  -8.382808e-16 -1.197544e-16 -8.370333e-16 -3.991813e-17 -3.991813e-17   \n",
       "std    1.002821e+00  1.002821e+00  1.002821e+00  1.002821e+00  1.002821e+00   \n",
       "min   -2.434235e+00 -1.432983e+00 -3.679162e+00 -2.671018e+00 -2.088255e+00   \n",
       "25%   -7.882448e-01 -6.587486e-01 -5.721225e-01 -6.891372e-01 -8.244151e-01   \n",
       "50%    6.099988e-02 -4.231120e-01 -2.382132e-02  1.518295e-03 -1.222817e-01   \n",
       "75%    8.361286e-01  6.697929e-01  6.981085e-01  6.020883e-01  5.096384e-01   \n",
       "max    2.259772e+00  3.109192e+00  3.156325e+00  3.154511e+00  4.371372e+00   \n",
       "\n",
       "       Total_Phenols    Flavanoids  Nonflavanoid_Phenols  Proanthocyanins  \\\n",
       "count     178.000000  1.780000e+02          1.780000e+02     1.780000e+02   \n",
       "mean        0.000000 -3.991813e-16          3.592632e-16    -1.197544e-16   \n",
       "std         1.002821  1.002821e+00          1.002821e+00     1.002821e+00   \n",
       "min        -2.107246 -1.695971e+00         -1.868234e+00    -2.069034e+00   \n",
       "25%        -0.885468 -8.275393e-01         -7.401412e-01    -5.972835e-01   \n",
       "50%         0.095960  1.061497e-01         -1.760948e-01    -6.289785e-02   \n",
       "75%         0.808997  8.490851e-01          6.095413e-01     6.291754e-01   \n",
       "max         2.539515  3.062832e+00          2.402403e+00     3.485073e+00   \n",
       "\n",
       "       Color_Intensity           Hue         OD280       Proline  \n",
       "count     1.780000e+02  1.780000e+02  1.780000e+02  1.780000e+02  \n",
       "mean      2.494883e-17  1.995907e-16  3.193450e-16 -1.596725e-16  \n",
       "std       1.002821e+00  1.002821e+00  1.002821e+00  1.002821e+00  \n",
       "min      -1.634288e+00 -2.094732e+00 -1.895054e+00 -1.493188e+00  \n",
       "25%      -7.951025e-01 -7.675624e-01 -9.522483e-01 -7.846378e-01  \n",
       "50%      -1.592246e-01  3.312687e-02  2.377348e-01 -2.337204e-01  \n",
       "75%       4.939560e-01  7.131644e-01  7.885875e-01  7.582494e-01  \n",
       "max       3.435432e+00  3.301694e+00  1.960915e+00  2.971473e+00  "
      ]
     },
     "execution_count": 38,
     "metadata": {},
     "output_type": "execute_result"
    }
   ],
   "source": [
    "df1 = std.fit_transform(data)\n",
    "df1 = pd.DataFrame(df1, columns = data.columns)\n",
    "df1.describe()"
   ]
  },
  {
   "cell_type": "markdown",
   "id": "c1350eba",
   "metadata": {},
   "source": [
    "## <font color = #ba2a27> PCA after scaling"
   ]
  },
  {
   "cell_type": "markdown",
   "id": "96048c8e",
   "metadata": {},
   "source": [
    "#### Reducing the data features into 2 components"
   ]
  },
  {
   "cell_type": "code",
   "execution_count": 39,
   "id": "e40e0f57",
   "metadata": {},
   "outputs": [
    {
     "data": {
      "text/html": [
       "<div>\n",
       "<style scoped>\n",
       "    .dataframe tbody tr th:only-of-type {\n",
       "        vertical-align: middle;\n",
       "    }\n",
       "\n",
       "    .dataframe tbody tr th {\n",
       "        vertical-align: top;\n",
       "    }\n",
       "\n",
       "    .dataframe thead th {\n",
       "        text-align: right;\n",
       "    }\n",
       "</style>\n",
       "<table border=\"1\" class=\"dataframe\">\n",
       "  <thead>\n",
       "    <tr style=\"text-align: right;\">\n",
       "      <th></th>\n",
       "      <th>PCA1</th>\n",
       "      <th>PCA2</th>\n",
       "    </tr>\n",
       "  </thead>\n",
       "  <tbody>\n",
       "    <tr>\n",
       "      <th>0</th>\n",
       "      <td>3.316751</td>\n",
       "      <td>-1.443463</td>\n",
       "    </tr>\n",
       "    <tr>\n",
       "      <th>1</th>\n",
       "      <td>2.209465</td>\n",
       "      <td>0.333393</td>\n",
       "    </tr>\n",
       "    <tr>\n",
       "      <th>2</th>\n",
       "      <td>2.516740</td>\n",
       "      <td>-1.031151</td>\n",
       "    </tr>\n",
       "    <tr>\n",
       "      <th>3</th>\n",
       "      <td>3.757066</td>\n",
       "      <td>-2.756372</td>\n",
       "    </tr>\n",
       "    <tr>\n",
       "      <th>4</th>\n",
       "      <td>1.008908</td>\n",
       "      <td>-0.869831</td>\n",
       "    </tr>\n",
       "    <tr>\n",
       "      <th>5</th>\n",
       "      <td>3.050254</td>\n",
       "      <td>-2.122401</td>\n",
       "    </tr>\n",
       "    <tr>\n",
       "      <th>6</th>\n",
       "      <td>2.449090</td>\n",
       "      <td>-1.174850</td>\n",
       "    </tr>\n",
       "    <tr>\n",
       "      <th>7</th>\n",
       "      <td>2.059437</td>\n",
       "      <td>-1.608963</td>\n",
       "    </tr>\n",
       "    <tr>\n",
       "      <th>8</th>\n",
       "      <td>2.510874</td>\n",
       "      <td>-0.918071</td>\n",
       "    </tr>\n",
       "    <tr>\n",
       "      <th>9</th>\n",
       "      <td>2.753628</td>\n",
       "      <td>-0.789438</td>\n",
       "    </tr>\n",
       "  </tbody>\n",
       "</table>\n",
       "</div>"
      ],
      "text/plain": [
       "       PCA1      PCA2\n",
       "0  3.316751 -1.443463\n",
       "1  2.209465  0.333393\n",
       "2  2.516740 -1.031151\n",
       "3  3.757066 -2.756372\n",
       "4  1.008908 -0.869831\n",
       "5  3.050254 -2.122401\n",
       "6  2.449090 -1.174850\n",
       "7  2.059437 -1.608963\n",
       "8  2.510874 -0.918071\n",
       "9  2.753628 -0.789438"
      ]
     },
     "execution_count": 39,
     "metadata": {},
     "output_type": "execute_result"
    }
   ],
   "source": [
    "df2 = pca.fit_transform(df1)\n",
    "df2 = pd.DataFrame(df2, columns = ['PCA1', 'PCA2'])\n",
    "df2.head(10)"
   ]
  },
  {
   "cell_type": "code",
   "execution_count": 40,
   "id": "d08aacba",
   "metadata": {},
   "outputs": [],
   "source": [
    "x1 = df2.values"
   ]
  },
  {
   "cell_type": "markdown",
   "id": "94ec18df",
   "metadata": {},
   "source": [
    "## <font color = #ba2a27> K-Means Clustering after Scaling"
   ]
  },
  {
   "cell_type": "code",
   "execution_count": 41,
   "id": "3c7d8c9a",
   "metadata": {},
   "outputs": [],
   "source": [
    "data4 = df2.copy()"
   ]
  },
  {
   "cell_type": "markdown",
   "id": "e01a8983",
   "metadata": {},
   "source": [
    "#### Calling the kmeanscluster function after scaling"
   ]
  },
  {
   "cell_type": "code",
   "execution_count": 42,
   "id": "0ebec779",
   "metadata": {},
   "outputs": [
    {
     "data": {
      "image/png": "[encoded data removed]",
      "text/plain": [
       "<Figure size 640x480 with 1 Axes>"
      ]
     },
     "metadata": {},
     "output_type": "display_data"
    }
   ],
   "source": [
    "kmeanscluster(x1)"
   ]
  },
  {
   "cell_type": "markdown",
   "id": "821c9549",
   "metadata": {},
   "source": [
    "##### <font color = violet> We can see that after n_clusters = 3, there is no signiifcant drop in the wcss value. So we can take optimum number of clusters as 3."
   ]
  },
  {
   "cell_type": "markdown",
   "id": "39507dc0",
   "metadata": {},
   "source": [
    "#### Clustering the dataset using optimum number of clusters by kmeans and plotting it"
   ]
  },
  {
   "cell_type": "code",
   "execution_count": 43,
   "id": "e6ae75c6",
   "metadata": {},
   "outputs": [
    {
     "data": {
      "image/png": "[encoded data removed]",
      "text/plain": [
       "<Figure size 640x480 with 1 Axes>"
      ]
     },
     "metadata": {},
     "output_type": "display_data"
    }
   ],
   "source": [
    "kmeans = KMeans(n_clusters = 3, init = 'k-means++', random_state = 42)\n",
    "y_kmeans1 = kmeans.fit_predict(x1)\n",
    "plt.scatter(x1[y_kmeans1 == 0,0], x1[y_kmeans1 == 0,1], s = 30, c = 'red', label = 'Cluster 1', marker = 'o')\n",
    "plt.scatter(x1[y_kmeans1 == 1,0], x1[y_kmeans1 == 1,1], s = 30, c = 'blue', label = 'Cluster 2', marker = 's')\n",
    "plt.scatter(x1[y_kmeans1 == 2,0], x1[y_kmeans1 == 2,1], s = 30, c = 'green', label = 'Cluster 3', marker = 'v')\n",
    "plt.title('Cluster of Wine')\n",
    "plt.legend()\n",
    "plt.show()"
   ]
  },
  {
   "cell_type": "markdown",
   "id": "147f8403",
   "metadata": {},
   "source": [
    "#### Adding a column \"Cluster\" into the dataframe data4"
   ]
  },
  {
   "cell_type": "code",
   "execution_count": 44,
   "id": "4c620b76",
   "metadata": {},
   "outputs": [
    {
     "data": {
      "text/html": [
       "<div>\n",
       "<style scoped>\n",
       "    .dataframe tbody tr th:only-of-type {\n",
       "        vertical-align: middle;\n",
       "    }\n",
       "\n",
       "    .dataframe tbody tr th {\n",
       "        vertical-align: top;\n",
       "    }\n",
       "\n",
       "    .dataframe thead th {\n",
       "        text-align: right;\n",
       "    }\n",
       "</style>\n",
       "<table border=\"1\" class=\"dataframe\">\n",
       "  <thead>\n",
       "    <tr style=\"text-align: right;\">\n",
       "      <th></th>\n",
       "      <th>PCA1</th>\n",
       "      <th>PCA2</th>\n",
       "      <th>Cluster</th>\n",
       "    </tr>\n",
       "  </thead>\n",
       "  <tbody>\n",
       "    <tr>\n",
       "      <th>0</th>\n",
       "      <td>3.316751</td>\n",
       "      <td>-1.443463</td>\n",
       "      <td>1</td>\n",
       "    </tr>\n",
       "    <tr>\n",
       "      <th>1</th>\n",
       "      <td>2.209465</td>\n",
       "      <td>0.333393</td>\n",
       "      <td>1</td>\n",
       "    </tr>\n",
       "    <tr>\n",
       "      <th>2</th>\n",
       "      <td>2.516740</td>\n",
       "      <td>-1.031151</td>\n",
       "      <td>1</td>\n",
       "    </tr>\n",
       "    <tr>\n",
       "      <th>3</th>\n",
       "      <td>3.757066</td>\n",
       "      <td>-2.756372</td>\n",
       "      <td>1</td>\n",
       "    </tr>\n",
       "    <tr>\n",
       "      <th>4</th>\n",
       "      <td>1.008908</td>\n",
       "      <td>-0.869831</td>\n",
       "      <td>1</td>\n",
       "    </tr>\n",
       "    <tr>\n",
       "      <th>5</th>\n",
       "      <td>3.050254</td>\n",
       "      <td>-2.122401</td>\n",
       "      <td>1</td>\n",
       "    </tr>\n",
       "    <tr>\n",
       "      <th>6</th>\n",
       "      <td>2.449090</td>\n",
       "      <td>-1.174850</td>\n",
       "      <td>1</td>\n",
       "    </tr>\n",
       "    <tr>\n",
       "      <th>7</th>\n",
       "      <td>2.059437</td>\n",
       "      <td>-1.608963</td>\n",
       "      <td>1</td>\n",
       "    </tr>\n",
       "    <tr>\n",
       "      <th>8</th>\n",
       "      <td>2.510874</td>\n",
       "      <td>-0.918071</td>\n",
       "      <td>1</td>\n",
       "    </tr>\n",
       "    <tr>\n",
       "      <th>9</th>\n",
       "      <td>2.753628</td>\n",
       "      <td>-0.789438</td>\n",
       "      <td>1</td>\n",
       "    </tr>\n",
       "  </tbody>\n",
       "</table>\n",
       "</div>"
      ],
      "text/plain": [
       "       PCA1      PCA2  Cluster\n",
       "0  3.316751 -1.443463        1\n",
       "1  2.209465  0.333393        1\n",
       "2  2.516740 -1.031151        1\n",
       "3  3.757066 -2.756372        1\n",
       "4  1.008908 -0.869831        1\n",
       "5  3.050254 -2.122401        1\n",
       "6  2.449090 -1.174850        1\n",
       "7  2.059437 -1.608963        1\n",
       "8  2.510874 -0.918071        1\n",
       "9  2.753628 -0.789438        1"
      ]
     },
     "execution_count": 44,
     "metadata": {},
     "output_type": "execute_result"
    }
   ],
   "source": [
    "data4['Cluster'] = kmeans.labels_\n",
    "data4.head(10)"
   ]
  },
  {
   "cell_type": "markdown",
   "id": "e28ef072",
   "metadata": {},
   "source": [
    "#### Finding Silhouette score of kmeans after scaling"
   ]
  },
  {
   "cell_type": "code",
   "execution_count": 45,
   "id": "62b661ef",
   "metadata": {},
   "outputs": [
    {
     "name": "stdout",
     "output_type": "stream",
     "text": [
      "Silhouette score of kmeans after scaling = 0.5610505693103247\n"
     ]
    }
   ],
   "source": [
    "print('Silhouette score of kmeans after scaling =', silhouette_score(x1, y_kmeans1))"
   ]
  },
  {
   "cell_type": "markdown",
   "id": "a8066ef2",
   "metadata": {},
   "source": [
    "## <font color = #ba2a27> Hierarchial Clustering after scaling"
   ]
  },
  {
   "cell_type": "code",
   "execution_count": 46,
   "id": "3554cd94",
   "metadata": {},
   "outputs": [],
   "source": [
    "data5 = df2.copy()"
   ]
  },
  {
   "cell_type": "markdown",
   "id": "b285afde",
   "metadata": {},
   "source": [
    "#### Calling the dendrogram function after scaling"
   ]
  },
  {
   "cell_type": "code",
   "execution_count": 47,
   "id": "dbb7b48e",
   "metadata": {},
   "outputs": [
    {
     "data": {
      "image/png": "[encoded data removed]",
      "text/plain": [
       "<Figure size 640x480 with 1 Axes>"
      ]
     },
     "metadata": {},
     "output_type": "display_data"
    }
   ],
   "source": [
    "dendrogram(x1)"
   ]
  },
  {
   "cell_type": "markdown",
   "id": "f0bb70c6",
   "metadata": {},
   "source": [
    "##### <font color = violet> We can see that the optimum number of clusters using the dendrogram is 3."
   ]
  },
  {
   "cell_type": "markdown",
   "id": "91ae2cae",
   "metadata": {},
   "source": [
    "####  Clustering the dataset using optimum number of clusters by Agglomerative Clustering and plotting it"
   ]
  },
  {
   "cell_type": "code",
   "execution_count": 48,
   "id": "3c717b69",
   "metadata": {},
   "outputs": [
    {
     "data": {
      "image/png": "[encoded data removed]",
      "text/plain": [
       "<Figure size 640x480 with 1 Axes>"
      ]
     },
     "metadata": {},
     "output_type": "display_data"
    }
   ],
   "source": [
    "hc = AgglomerativeClustering(n_clusters = 3, affinity = 'euclidean', linkage = 'ward')\n",
    "y_hc1 = hc.fit_predict(x1)\n",
    "plt.scatter(x1[y_hc1 == 0, 0], x1[y_hc1 == 0, 1], s = 30, c = 'red', label = 'Cluster 1', marker = 'o')\n",
    "plt.scatter(x1[y_hc1 == 1, 0], x1[y_hc1 == 1, 1], s = 30, c = 'blue', label = 'Cluster 2', marker = 's')\n",
    "plt.scatter(x1[y_hc1 == 2, 0], x1[y_hc1 == 2, 1], s = 30, c = 'green', label = 'Cluster 2', marker = 'v')\n",
    "plt.title('Cluster of Wine')\n",
    "plt.legend()\n",
    "plt.show()"
   ]
  },
  {
   "cell_type": "markdown",
   "id": "c91207aa",
   "metadata": {},
   "source": [
    "#### Adding a column \"Cluster\" into the dataframe data5"
   ]
  },
  {
   "cell_type": "code",
   "execution_count": 49,
   "id": "f171b7a0",
   "metadata": {},
   "outputs": [
    {
     "data": {
      "text/html": [
       "<div>\n",
       "<style scoped>\n",
       "    .dataframe tbody tr th:only-of-type {\n",
       "        vertical-align: middle;\n",
       "    }\n",
       "\n",
       "    .dataframe tbody tr th {\n",
       "        vertical-align: top;\n",
       "    }\n",
       "\n",
       "    .dataframe thead th {\n",
       "        text-align: right;\n",
       "    }\n",
       "</style>\n",
       "<table border=\"1\" class=\"dataframe\">\n",
       "  <thead>\n",
       "    <tr style=\"text-align: right;\">\n",
       "      <th></th>\n",
       "      <th>PCA1</th>\n",
       "      <th>PCA2</th>\n",
       "      <th>Cluster</th>\n",
       "    </tr>\n",
       "  </thead>\n",
       "  <tbody>\n",
       "    <tr>\n",
       "      <th>0</th>\n",
       "      <td>3.316751</td>\n",
       "      <td>-1.443463</td>\n",
       "      <td>2</td>\n",
       "    </tr>\n",
       "    <tr>\n",
       "      <th>1</th>\n",
       "      <td>2.209465</td>\n",
       "      <td>0.333393</td>\n",
       "      <td>2</td>\n",
       "    </tr>\n",
       "    <tr>\n",
       "      <th>2</th>\n",
       "      <td>2.516740</td>\n",
       "      <td>-1.031151</td>\n",
       "      <td>2</td>\n",
       "    </tr>\n",
       "    <tr>\n",
       "      <th>3</th>\n",
       "      <td>3.757066</td>\n",
       "      <td>-2.756372</td>\n",
       "      <td>2</td>\n",
       "    </tr>\n",
       "    <tr>\n",
       "      <th>4</th>\n",
       "      <td>1.008908</td>\n",
       "      <td>-0.869831</td>\n",
       "      <td>2</td>\n",
       "    </tr>\n",
       "    <tr>\n",
       "      <th>5</th>\n",
       "      <td>3.050254</td>\n",
       "      <td>-2.122401</td>\n",
       "      <td>2</td>\n",
       "    </tr>\n",
       "    <tr>\n",
       "      <th>6</th>\n",
       "      <td>2.449090</td>\n",
       "      <td>-1.174850</td>\n",
       "      <td>2</td>\n",
       "    </tr>\n",
       "    <tr>\n",
       "      <th>7</th>\n",
       "      <td>2.059437</td>\n",
       "      <td>-1.608963</td>\n",
       "      <td>2</td>\n",
       "    </tr>\n",
       "    <tr>\n",
       "      <th>8</th>\n",
       "      <td>2.510874</td>\n",
       "      <td>-0.918071</td>\n",
       "      <td>2</td>\n",
       "    </tr>\n",
       "    <tr>\n",
       "      <th>9</th>\n",
       "      <td>2.753628</td>\n",
       "      <td>-0.789438</td>\n",
       "      <td>2</td>\n",
       "    </tr>\n",
       "  </tbody>\n",
       "</table>\n",
       "</div>"
      ],
      "text/plain": [
       "       PCA1      PCA2  Cluster\n",
       "0  3.316751 -1.443463        2\n",
       "1  2.209465  0.333393        2\n",
       "2  2.516740 -1.031151        2\n",
       "3  3.757066 -2.756372        2\n",
       "4  1.008908 -0.869831        2\n",
       "5  3.050254 -2.122401        2\n",
       "6  2.449090 -1.174850        2\n",
       "7  2.059437 -1.608963        2\n",
       "8  2.510874 -0.918071        2\n",
       "9  2.753628 -0.789438        2"
      ]
     },
     "execution_count": 49,
     "metadata": {},
     "output_type": "execute_result"
    }
   ],
   "source": [
    "data5['Cluster'] = hc.labels_\n",
    "data5.head(10)"
   ]
  },
  {
   "cell_type": "markdown",
   "id": "ac37fffb",
   "metadata": {},
   "source": [
    "#### Finding Silhouette score of Agglomerative Clustering after scaling"
   ]
  },
  {
   "cell_type": "code",
   "execution_count": 50,
   "id": "0cb126ab",
   "metadata": {},
   "outputs": [
    {
     "name": "stdout",
     "output_type": "stream",
     "text": [
      "Silhouette score of Agglomerative Clustering after scaling = 0.5590883962040384\n"
     ]
    }
   ],
   "source": [
    "print('Silhouette score of Agglomerative Clustering after scaling =', silhouette_score(x1, y_hc1))"
   ]
  },
  {
   "cell_type": "markdown",
   "id": "a5bdd30f",
   "metadata": {},
   "source": [
    "## <font color = #ba2a27> DBSCAN Clustering after scaling"
   ]
  },
  {
   "cell_type": "code",
   "execution_count": 51,
   "id": "132b9e8e",
   "metadata": {},
   "outputs": [],
   "source": [
    "data6 = df.copy()"
   ]
  },
  {
   "cell_type": "markdown",
   "id": "3c4b5e1c",
   "metadata": {},
   "source": [
    "#### Calling the neighbors function after scaling"
   ]
  },
  {
   "cell_type": "code",
   "execution_count": 52,
   "id": "1fdd2ffc",
   "metadata": {},
   "outputs": [
    {
     "data": {
      "image/png": "[encoded data removed]",
      "text/plain": [
       "<Figure size 640x480 with 1 Axes>"
      ]
     },
     "metadata": {},
     "output_type": "display_data"
    }
   ],
   "source": [
    "neighbors(x1)"
   ]
  },
  {
   "cell_type": "markdown",
   "id": "63bb5fa2",
   "metadata": {},
   "source": [
    "##### <font color = violet> From the above plot, we note the maximum curvature of the curve is about 0.65, and thus we picked our eps as 0.65."
   ]
  },
  {
   "cell_type": "markdown",
   "id": "0f2d3567",
   "metadata": {},
   "source": [
    "#### Clustering the dataset using DBSCAN after scaling"
   ]
  },
  {
   "cell_type": "code",
   "execution_count": 53,
   "id": "18f1d0af",
   "metadata": {},
   "outputs": [],
   "source": [
    "dbscan1 = DBSCAN(eps = 0.65, min_samples = 4)\n",
    "y_db1 = dbscan1.fit_predict(x1)"
   ]
  },
  {
   "cell_type": "markdown",
   "id": "31364cf8",
   "metadata": {},
   "source": [
    "#### Adding a column \"Cluster\" into the dataframe data6"
   ]
  },
  {
   "cell_type": "code",
   "execution_count": 54,
   "id": "dc304521",
   "metadata": {},
   "outputs": [
    {
     "data": {
      "text/html": [
       "<div>\n",
       "<style scoped>\n",
       "    .dataframe tbody tr th:only-of-type {\n",
       "        vertical-align: middle;\n",
       "    }\n",
       "\n",
       "    .dataframe tbody tr th {\n",
       "        vertical-align: top;\n",
       "    }\n",
       "\n",
       "    .dataframe thead th {\n",
       "        text-align: right;\n",
       "    }\n",
       "</style>\n",
       "<table border=\"1\" class=\"dataframe\">\n",
       "  <thead>\n",
       "    <tr style=\"text-align: right;\">\n",
       "      <th></th>\n",
       "      <th>PCA1</th>\n",
       "      <th>PCA2</th>\n",
       "      <th>Cluster</th>\n",
       "    </tr>\n",
       "  </thead>\n",
       "  <tbody>\n",
       "    <tr>\n",
       "      <th>0</th>\n",
       "      <td>318.562979</td>\n",
       "      <td>21.492131</td>\n",
       "      <td>0</td>\n",
       "    </tr>\n",
       "    <tr>\n",
       "      <th>1</th>\n",
       "      <td>303.097420</td>\n",
       "      <td>-5.364718</td>\n",
       "      <td>0</td>\n",
       "    </tr>\n",
       "    <tr>\n",
       "      <th>2</th>\n",
       "      <td>438.061133</td>\n",
       "      <td>-6.537309</td>\n",
       "      <td>0</td>\n",
       "    </tr>\n",
       "    <tr>\n",
       "      <th>3</th>\n",
       "      <td>733.240139</td>\n",
       "      <td>0.192729</td>\n",
       "      <td>-1</td>\n",
       "    </tr>\n",
       "    <tr>\n",
       "      <th>4</th>\n",
       "      <td>-11.571428</td>\n",
       "      <td>18.489995</td>\n",
       "      <td>0</td>\n",
       "    </tr>\n",
       "    <tr>\n",
       "      <th>5</th>\n",
       "      <td>703.231192</td>\n",
       "      <td>-0.332159</td>\n",
       "      <td>0</td>\n",
       "    </tr>\n",
       "    <tr>\n",
       "      <th>6</th>\n",
       "      <td>542.971581</td>\n",
       "      <td>-13.518967</td>\n",
       "      <td>0</td>\n",
       "    </tr>\n",
       "    <tr>\n",
       "      <th>7</th>\n",
       "      <td>548.401860</td>\n",
       "      <td>11.449432</td>\n",
       "      <td>0</td>\n",
       "    </tr>\n",
       "    <tr>\n",
       "      <th>8</th>\n",
       "      <td>298.036863</td>\n",
       "      <td>-8.180158</td>\n",
       "      <td>0</td>\n",
       "    </tr>\n",
       "    <tr>\n",
       "      <th>9</th>\n",
       "      <td>298.049553</td>\n",
       "      <td>-7.101543</td>\n",
       "      <td>0</td>\n",
       "    </tr>\n",
       "  </tbody>\n",
       "</table>\n",
       "</div>"
      ],
      "text/plain": [
       "         PCA1       PCA2  Cluster\n",
       "0  318.562979  21.492131        0\n",
       "1  303.097420  -5.364718        0\n",
       "2  438.061133  -6.537309        0\n",
       "3  733.240139   0.192729       -1\n",
       "4  -11.571428  18.489995        0\n",
       "5  703.231192  -0.332159        0\n",
       "6  542.971581 -13.518967        0\n",
       "7  548.401860  11.449432        0\n",
       "8  298.036863  -8.180158        0\n",
       "9  298.049553  -7.101543        0"
      ]
     },
     "execution_count": 54,
     "metadata": {},
     "output_type": "execute_result"
    }
   ],
   "source": [
    "data6['Cluster'] = dbscan1.labels_\n",
    "data6.head(10)"
   ]
  },
  {
   "cell_type": "markdown",
   "id": "c633d281",
   "metadata": {},
   "source": [
    "#### Finding unique values in the \"Cluster\" column of data6"
   ]
  },
  {
   "cell_type": "code",
   "execution_count": 55,
   "id": "b357573d",
   "metadata": {},
   "outputs": [
    {
     "data": {
      "text/plain": [
       "array([ 0, -1,  1], dtype=int64)"
      ]
     },
     "execution_count": 55,
     "metadata": {},
     "output_type": "execute_result"
    }
   ],
   "source": [
    "data6.Cluster.unique()"
   ]
  },
  {
   "cell_type": "markdown",
   "id": "f4bd2e20",
   "metadata": {},
   "source": [
    "##### <font color = violet> The number of clusters using DBSCAN after scaling is 3."
   ]
  },
  {
   "cell_type": "markdown",
   "id": "493c297c",
   "metadata": {},
   "source": [
    "#### Plotting the clusters using DBSCAN after scaling"
   ]
  },
  {
   "cell_type": "code",
   "execution_count": 56,
   "id": "b79588dd",
   "metadata": {},
   "outputs": [
    {
     "data": {
      "image/png": "[encoded data removed]",
      "text/plain": [
       "<Figure size 640x480 with 1 Axes>"
      ]
     },
     "metadata": {},
     "output_type": "display_data"
    }
   ],
   "source": [
    "plt.scatter(x1[y_db1 == 0,0], x1[y_db1 == 0,1], s = 30, c = 'red', label = 'Cluster 0', marker = 'o')\n",
    "plt.scatter(x1[y_db1 == -1,0], x1[y_db1 == -1,1], s = 30, c = 'blue', label = 'Cluster -1', marker = 's')\n",
    "plt.scatter(x1[y_db1 == 1,0], x1[y_db1 == 1,1], s = 30, c = 'green', label = 'Cluster 1', marker = 'v')\n",
    "plt.title('Cluster of Wine')\n",
    "plt.legend()\n",
    "plt.show()"
   ]
  },
  {
   "cell_type": "markdown",
   "id": "3686f661",
   "metadata": {},
   "source": [
    "####  Finding Silhouette score of DBSCAN after scaling"
   ]
  },
  {
   "cell_type": "code",
   "execution_count": 58,
   "id": "ea4bb657",
   "metadata": {},
   "outputs": [
    {
     "name": "stdout",
     "output_type": "stream",
     "text": [
      "Silhouette score of DBSCAN after scaling = 0.3566384836904229\n"
     ]
    }
   ],
   "source": [
    "print('Silhouette score of DBSCAN after scaling =', silhouette_score(x1, y_db1))"
   ]
  },
  {
   "cell_type": "markdown",
   "id": "aa021653",
   "metadata": {},
   "source": [
    "### <font color = red> The Agglomerative Hierarchial Clustering before scaling has the highest silhouette score with optimum number of clusters as 2. So we can take this model."
   ]
  },
  {
   "cell_type": "code",
   "execution_count": null,
   "id": "91928563",
   "metadata": {},
   "outputs": [],
   "source": []
  }
 ],
 "metadata": {
  "kernelspec": {
   "display_name": "Python 3 (ipykernel)",
   "language": "python",
   "name": "python3"
  },
  "language_info": {
   "codemirror_mode": {
    "name": "ipython",
    "version": 3
   },
   "file_extension": ".py",
   "mimetype": "text/x-python",
   "name": "python",
   "nbconvert_exporter": "python",
   "pygments_lexer": "ipython3",
   "version": "3.10.9"
  }
 },
 "nbformat": 4,
 "nbformat_minor": 5
}
