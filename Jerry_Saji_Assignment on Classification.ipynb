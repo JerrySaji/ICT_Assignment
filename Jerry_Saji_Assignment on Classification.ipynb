{
 "cells": [
  {
   "cell_type": "markdown",
   "id": "38945b5f",
   "metadata": {},
   "source": [
    "#### Importing necessary libraries"
   ]
  },
  {
   "cell_type": "code",
   "execution_count": 1,
   "id": "7a6fc510",
   "metadata": {},
   "outputs": [],
   "source": [
    "import numpy as np\n",
    "import pandas as pd\n",
    "import matplotlib.pyplot as plt\n",
    "import seaborn as sns\n",
    "import warnings\n",
    "warnings.simplefilter(action = 'ignore', category = FutureWarning)"
   ]
  },
  {
   "cell_type": "markdown",
   "id": "65cfad6c",
   "metadata": {},
   "source": [
    "#### Loading the dataset"
   ]
  },
  {
   "cell_type": "code",
   "execution_count": 2,
   "id": "04e22f2d",
   "metadata": {},
   "outputs": [],
   "source": [
    "data = pd.read_excel(r\"D:\\ICTAK\\Assignments and Case Studies\\Assignment 05\\iris.xls\")"
   ]
  },
  {
   "cell_type": "markdown",
   "id": "3e71a860",
   "metadata": {},
   "source": [
    "#### Displaying the head of the dataset"
   ]
  },
  {
   "cell_type": "code",
   "execution_count": 3,
   "id": "f48cfe81",
   "metadata": {},
   "outputs": [
    {
     "data": {
      "text/html": [
       "<div>\n",
       "<style scoped>\n",
       "    .dataframe tbody tr th:only-of-type {\n",
       "        vertical-align: middle;\n",
       "    }\n",
       "\n",
       "    .dataframe tbody tr th {\n",
       "        vertical-align: top;\n",
       "    }\n",
       "\n",
       "    .dataframe thead th {\n",
       "        text-align: right;\n",
       "    }\n",
       "</style>\n",
       "<table border=\"1\" class=\"dataframe\">\n",
       "  <thead>\n",
       "    <tr style=\"text-align: right;\">\n",
       "      <th></th>\n",
       "      <th>SL</th>\n",
       "      <th>SW</th>\n",
       "      <th>PL</th>\n",
       "      <th>PW</th>\n",
       "      <th>Classification</th>\n",
       "    </tr>\n",
       "  </thead>\n",
       "  <tbody>\n",
       "    <tr>\n",
       "      <th>0</th>\n",
       "      <td>5.1</td>\n",
       "      <td>3.5</td>\n",
       "      <td>1.4</td>\n",
       "      <td>0.2</td>\n",
       "      <td>Iris-setosa</td>\n",
       "    </tr>\n",
       "    <tr>\n",
       "      <th>1</th>\n",
       "      <td>4.9</td>\n",
       "      <td>3.0</td>\n",
       "      <td>1.4</td>\n",
       "      <td>0.2</td>\n",
       "      <td>Iris-setosa</td>\n",
       "    </tr>\n",
       "    <tr>\n",
       "      <th>2</th>\n",
       "      <td>NaN</td>\n",
       "      <td>3.2</td>\n",
       "      <td>1.3</td>\n",
       "      <td>0.2</td>\n",
       "      <td>Iris-setosa</td>\n",
       "    </tr>\n",
       "    <tr>\n",
       "      <th>3</th>\n",
       "      <td>4.6</td>\n",
       "      <td>3.1</td>\n",
       "      <td>1.5</td>\n",
       "      <td>0.2</td>\n",
       "      <td>Iris-setosa</td>\n",
       "    </tr>\n",
       "    <tr>\n",
       "      <th>4</th>\n",
       "      <td>5.0</td>\n",
       "      <td>3.6</td>\n",
       "      <td>1.4</td>\n",
       "      <td>0.2</td>\n",
       "      <td>Iris-setosa</td>\n",
       "    </tr>\n",
       "  </tbody>\n",
       "</table>\n",
       "</div>"
      ],
      "text/plain": [
       "    SL   SW   PL   PW Classification\n",
       "0  5.1  3.5  1.4  0.2    Iris-setosa\n",
       "1  4.9  3.0  1.4  0.2    Iris-setosa\n",
       "2  NaN  3.2  1.3  0.2    Iris-setosa\n",
       "3  4.6  3.1  1.5  0.2    Iris-setosa\n",
       "4  5.0  3.6  1.4  0.2    Iris-setosa"
      ]
     },
     "execution_count": 3,
     "metadata": {},
     "output_type": "execute_result"
    }
   ],
   "source": [
    "data.head()"
   ]
  },
  {
   "cell_type": "markdown",
   "id": "72ba26d1",
   "metadata": {},
   "source": [
    "#### Getting the shape of the dataset"
   ]
  },
  {
   "cell_type": "code",
   "execution_count": 4,
   "id": "635c0653",
   "metadata": {},
   "outputs": [
    {
     "data": {
      "text/plain": [
       "(150, 5)"
      ]
     },
     "execution_count": 4,
     "metadata": {},
     "output_type": "execute_result"
    }
   ],
   "source": [
    "data.shape"
   ]
  },
  {
   "cell_type": "markdown",
   "id": "7d63bff3",
   "metadata": {},
   "source": [
    "#### Getting the info of the dataset"
   ]
  },
  {
   "cell_type": "code",
   "execution_count": 5,
   "id": "c98374e2",
   "metadata": {},
   "outputs": [
    {
     "name": "stdout",
     "output_type": "stream",
     "text": [
      "<class 'pandas.core.frame.DataFrame'>\n",
      "RangeIndex: 150 entries, 0 to 149\n",
      "Data columns (total 5 columns):\n",
      " #   Column          Non-Null Count  Dtype  \n",
      "---  ------          --------------  -----  \n",
      " 0   SL              143 non-null    float64\n",
      " 1   SW              144 non-null    float64\n",
      " 2   PL              144 non-null    float64\n",
      " 3   PW              150 non-null    float64\n",
      " 4   Classification  150 non-null    object \n",
      "dtypes: float64(4), object(1)\n",
      "memory usage: 6.0+ KB\n"
     ]
    }
   ],
   "source": [
    "data.info()"
   ]
  },
  {
   "cell_type": "markdown",
   "id": "96e4647f",
   "metadata": {},
   "source": [
    "#### Displaying the statistical summary of the dataset"
   ]
  },
  {
   "cell_type": "code",
   "execution_count": 6,
   "id": "43ca8181",
   "metadata": {},
   "outputs": [
    {
     "data": {
      "text/html": [
       "<div>\n",
       "<style scoped>\n",
       "    .dataframe tbody tr th:only-of-type {\n",
       "        vertical-align: middle;\n",
       "    }\n",
       "\n",
       "    .dataframe tbody tr th {\n",
       "        vertical-align: top;\n",
       "    }\n",
       "\n",
       "    .dataframe thead th {\n",
       "        text-align: right;\n",
       "    }\n",
       "</style>\n",
       "<table border=\"1\" class=\"dataframe\">\n",
       "  <thead>\n",
       "    <tr style=\"text-align: right;\">\n",
       "      <th></th>\n",
       "      <th>SL</th>\n",
       "      <th>SW</th>\n",
       "      <th>PL</th>\n",
       "      <th>PW</th>\n",
       "    </tr>\n",
       "  </thead>\n",
       "  <tbody>\n",
       "    <tr>\n",
       "      <th>count</th>\n",
       "      <td>143.000000</td>\n",
       "      <td>144.000000</td>\n",
       "      <td>144.000000</td>\n",
       "      <td>150.000000</td>\n",
       "    </tr>\n",
       "    <tr>\n",
       "      <th>mean</th>\n",
       "      <td>5.855944</td>\n",
       "      <td>3.049306</td>\n",
       "      <td>3.756250</td>\n",
       "      <td>1.198667</td>\n",
       "    </tr>\n",
       "    <tr>\n",
       "      <th>std</th>\n",
       "      <td>0.828168</td>\n",
       "      <td>0.430644</td>\n",
       "      <td>1.761306</td>\n",
       "      <td>0.763161</td>\n",
       "    </tr>\n",
       "    <tr>\n",
       "      <th>min</th>\n",
       "      <td>4.300000</td>\n",
       "      <td>2.000000</td>\n",
       "      <td>1.000000</td>\n",
       "      <td>0.100000</td>\n",
       "    </tr>\n",
       "    <tr>\n",
       "      <th>25%</th>\n",
       "      <td>5.100000</td>\n",
       "      <td>2.800000</td>\n",
       "      <td>1.600000</td>\n",
       "      <td>0.300000</td>\n",
       "    </tr>\n",
       "    <tr>\n",
       "      <th>50%</th>\n",
       "      <td>5.800000</td>\n",
       "      <td>3.000000</td>\n",
       "      <td>4.350000</td>\n",
       "      <td>1.300000</td>\n",
       "    </tr>\n",
       "    <tr>\n",
       "      <th>75%</th>\n",
       "      <td>6.400000</td>\n",
       "      <td>3.300000</td>\n",
       "      <td>5.100000</td>\n",
       "      <td>1.800000</td>\n",
       "    </tr>\n",
       "    <tr>\n",
       "      <th>max</th>\n",
       "      <td>7.900000</td>\n",
       "      <td>4.400000</td>\n",
       "      <td>6.900000</td>\n",
       "      <td>2.500000</td>\n",
       "    </tr>\n",
       "  </tbody>\n",
       "</table>\n",
       "</div>"
      ],
      "text/plain": [
       "               SL          SW          PL          PW\n",
       "count  143.000000  144.000000  144.000000  150.000000\n",
       "mean     5.855944    3.049306    3.756250    1.198667\n",
       "std      0.828168    0.430644    1.761306    0.763161\n",
       "min      4.300000    2.000000    1.000000    0.100000\n",
       "25%      5.100000    2.800000    1.600000    0.300000\n",
       "50%      5.800000    3.000000    4.350000    1.300000\n",
       "75%      6.400000    3.300000    5.100000    1.800000\n",
       "max      7.900000    4.400000    6.900000    2.500000"
      ]
     },
     "execution_count": 6,
     "metadata": {},
     "output_type": "execute_result"
    }
   ],
   "source": [
    "data.describe()"
   ]
  },
  {
   "cell_type": "markdown",
   "id": "98843e10",
   "metadata": {},
   "source": [
    "#### Finding the null values in the dataset"
   ]
  },
  {
   "cell_type": "code",
   "execution_count": 7,
   "id": "e70bbdc4",
   "metadata": {},
   "outputs": [
    {
     "data": {
      "text/plain": [
       "SL                7\n",
       "SW                6\n",
       "PL                6\n",
       "PW                0\n",
       "Classification    0\n",
       "dtype: int64"
      ]
     },
     "execution_count": 7,
     "metadata": {},
     "output_type": "execute_result"
    }
   ],
   "source": [
    "data.isna().sum()"
   ]
  },
  {
   "cell_type": "markdown",
   "id": "64077d3c",
   "metadata": {},
   "source": [
    "##### <font color = violet> There are null values in 3 columns."
   ]
  },
  {
   "cell_type": "markdown",
   "id": "a479a853",
   "metadata": {},
   "source": [
    "#### Displaying the distribution of columns that have null values"
   ]
  },
  {
   "cell_type": "code",
   "execution_count": 8,
   "id": "ac0d559e",
   "metadata": {},
   "outputs": [
    {
     "data": {
      "image/png": "[encoded data removed]",
      "text/plain": [
       "<Figure size 640x480 with 1 Axes>"
      ]
     },
     "metadata": {},
     "output_type": "display_data"
    },
    {
     "data": {
      "image/png": "[encoded data removed]",
      "text/plain": [
       "<Figure size 640x480 with 1 Axes>"
      ]
     },
     "metadata": {},
     "output_type": "display_data"
    },
    {
     "data": {
      "image/png": "[encoded data removed]",
      "text/plain": [
       "<Figure size 640x480 with 1 Axes>"
      ]
     },
     "metadata": {},
     "output_type": "display_data"
    }
   ],
   "source": [
    "for i in ['SL', 'SW', 'PL']:\n",
    "    plt.hist(data[i])\n",
    "    plt.title('Distribution of {}'.format(i))\n",
    "    plt.show()"
   ]
  },
  {
   "cell_type": "markdown",
   "id": "aa099d87",
   "metadata": {},
   "source": [
    "##### <font color = violet> We can see that the columns \"SL\" and \"PL\" are right skewed, and the column \"SW\" is close to normally disributed. So we can fill the null values in the columns \"SL\" and \"PL\" by their medians, and in the column \"SW\" by its mean."
   ]
  },
  {
   "cell_type": "markdown",
   "id": "d862d096",
   "metadata": {},
   "source": [
    "#### Filling the null values of the columns \"SL\" and \"PL\""
   ]
  },
  {
   "cell_type": "code",
   "execution_count": 9,
   "id": "efe80c38",
   "metadata": {},
   "outputs": [],
   "source": [
    "for j in ['SL', 'PL']:\n",
    "    data[j].fillna(data[j].median(), inplace = True)"
   ]
  },
  {
   "cell_type": "markdown",
   "id": "ef7975ad",
   "metadata": {},
   "source": [
    "#### Filling the null values of the column \"SW\""
   ]
  },
  {
   "cell_type": "code",
   "execution_count": 10,
   "id": "863bfa1f",
   "metadata": {},
   "outputs": [],
   "source": [
    "data['SW'].fillna(data['SW'].mean(), inplace = True)"
   ]
  },
  {
   "cell_type": "markdown",
   "id": "88db8875",
   "metadata": {},
   "source": [
    "#### Finding whether there is any more null values in the dataset"
   ]
  },
  {
   "cell_type": "code",
   "execution_count": 11,
   "id": "2e02b712",
   "metadata": {},
   "outputs": [
    {
     "data": {
      "text/plain": [
       "SL                0\n",
       "SW                0\n",
       "PL                0\n",
       "PW                0\n",
       "Classification    0\n",
       "dtype: int64"
      ]
     },
     "execution_count": 11,
     "metadata": {},
     "output_type": "execute_result"
    }
   ],
   "source": [
    "data.isna().sum()"
   ]
  },
  {
   "cell_type": "markdown",
   "id": "9ff240fd",
   "metadata": {},
   "source": [
    "#### Finding outliers in the numerical columns using boxplot graph"
   ]
  },
  {
   "cell_type": "code",
   "execution_count": 12,
   "id": "c9c50698",
   "metadata": {},
   "outputs": [
    {
     "data": {
      "image/png": "[encoded data removed]",
      "text/plain": [
       "<Figure size 640x480 with 1 Axes>"
      ]
     },
     "metadata": {},
     "output_type": "display_data"
    },
    {
     "data": {
      "image/png": "[encoded data removed]",
      "text/plain": [
       "<Figure size 640x480 with 1 Axes>"
      ]
     },
     "metadata": {},
     "output_type": "display_data"
    },
    {
     "data": {
      "image/png": "[encoded data removed]",
      "text/plain": [
       "<Figure size 640x480 with 1 Axes>"
      ]
     },
     "metadata": {},
     "output_type": "display_data"
    },
    {
     "data": {
      "image/png": "[encoded data removed]",
      "text/plain": [
       "<Figure size 640x480 with 1 Axes>"
      ]
     },
     "metadata": {},
     "output_type": "display_data"
    }
   ],
   "source": [
    "num_col = data.select_dtypes(include = 'float')\n",
    "for col in num_col:\n",
    "    plt.figure()\n",
    "    plt.boxplot(data[col])\n",
    "    plt.title('Boxplot of {}'.format(col), color = 'r')\n",
    "    plt.show()"
   ]
  },
  {
   "cell_type": "markdown",
   "id": "e0b8c0a1",
   "metadata": {},
   "source": [
    "##### <font color = violet> There are outliers in the column \"SW\"."
   ]
  },
  {
   "cell_type": "markdown",
   "id": "9471eb92",
   "metadata": {},
   "source": [
    "#### Finding number of outliers in the column \"SW\""
   ]
  },
  {
   "cell_type": "code",
   "execution_count": 13,
   "id": "b9714e4b",
   "metadata": {},
   "outputs": [
    {
     "data": {
      "text/plain": [
       "5"
      ]
     },
     "execution_count": 13,
     "metadata": {},
     "output_type": "execute_result"
    }
   ],
   "source": [
    "Q1 = data['SW'].quantile(0.25)\n",
    "Q3 = data['SW'].quantile(0.75)\n",
    "IQR = Q3 - Q1\n",
    "low = Q1 - (1.5 * IQR)\n",
    "upp = Q3 + (1.5 * IQR)\n",
    "outliers = []\n",
    "for x in data['SW']:\n",
    "    if(x > upp) or (x < low):\n",
    "        outliers.append(x)\n",
    "len(outliers)"
   ]
  },
  {
   "cell_type": "markdown",
   "id": "2215e734",
   "metadata": {},
   "source": [
    "#### Flooring and Capping the outliers in the column \"SW\""
   ]
  },
  {
   "cell_type": "code",
   "execution_count": 14,
   "id": "eb7294c5",
   "metadata": {},
   "outputs": [],
   "source": [
    "data['SW'] = np.where(data['SW'] > upp, upp, np.where(data['SW'] < low, low, data['SW']))"
   ]
  },
  {
   "cell_type": "markdown",
   "id": "78dcf091",
   "metadata": {},
   "source": [
    "#### Setting the feature and the target variables"
   ]
  },
  {
   "cell_type": "code",
   "execution_count": 15,
   "id": "1763cfb3",
   "metadata": {},
   "outputs": [],
   "source": [
    "x = data.drop('Classification', axis = 1)\n",
    "y = data['Classification']"
   ]
  },
  {
   "cell_type": "markdown",
   "id": "6e02a7b2",
   "metadata": {},
   "source": [
    "### <font color = brown> Logistic Regression"
   ]
  },
  {
   "cell_type": "markdown",
   "id": "3d1315ec",
   "metadata": {},
   "source": [
    "#### Importing Logistic Regression from sklearn"
   ]
  },
  {
   "cell_type": "code",
   "execution_count": 16,
   "id": "30b6fb6b",
   "metadata": {},
   "outputs": [],
   "source": [
    "from sklearn.linear_model import LogisticRegression\n",
    "logic = LogisticRegression(multi_class = 'multinomial', solver = 'lbfgs', max_iter = 50)"
   ]
  },
  {
   "cell_type": "markdown",
   "id": "32c257ff",
   "metadata": {},
   "source": [
    "#### Importing train_test_split, accuracy_score, precision_score, recall_score, f1_score and confusion_matrix"
   ]
  },
  {
   "cell_type": "code",
   "execution_count": 17,
   "id": "923eb744",
   "metadata": {},
   "outputs": [],
   "source": [
    "from sklearn.model_selection import train_test_split\n",
    "from sklearn.metrics import accuracy_score, precision_score, recall_score, f1_score, confusion_matrix"
   ]
  },
  {
   "cell_type": "markdown",
   "id": "cf80e388",
   "metadata": {},
   "source": [
    "#### Splitting the dataset into training and testing sets"
   ]
  },
  {
   "cell_type": "code",
   "execution_count": 18,
   "id": "94c2a10e",
   "metadata": {},
   "outputs": [],
   "source": [
    "x_train, x_test, y_train, y_test = train_test_split(x, y, test_size = 0.25, random_state = 25)"
   ]
  },
  {
   "cell_type": "markdown",
   "id": "8ec2036b",
   "metadata": {},
   "source": [
    "#### Defining a logistic regression function"
   ]
  },
  {
   "cell_type": "code",
   "execution_count": 19,
   "id": "4945c4fc",
   "metadata": {},
   "outputs": [],
   "source": [
    "def logisticregression(x,y):\n",
    "    logic.fit(x_train, y_train)\n",
    "    y_pred = logic.predict(x_test)\n",
    "    print('Accuracy =', accuracy_score(y_test, y_pred))\n",
    "    print('Precision =', precision_score(y_test, y_pred, average = 'micro'))\n",
    "    print('Recall =', recall_score(y_test, y_pred, average = 'micro'))\n",
    "    print('F1 Score =', f1_score(y_test, y_pred, average = 'micro'))\n",
    "    print('Confusion Matrix is\\n', confusion_matrix(y_test, y_pred))"
   ]
  },
  {
   "cell_type": "markdown",
   "id": "f198fc42",
   "metadata": {},
   "source": [
    "#### Calling the logistic regression function"
   ]
  },
  {
   "cell_type": "code",
   "execution_count": 20,
   "id": "3fd212c5",
   "metadata": {},
   "outputs": [
    {
     "name": "stdout",
     "output_type": "stream",
     "text": [
      "Accuracy = 0.9210526315789473\n",
      "Precision = 0.9210526315789473\n",
      "Recall = 0.9210526315789473\n",
      "F1 Score = 0.9210526315789473\n",
      "Confusion Matrix is\n",
      " [[ 9  2  0]\n",
      " [ 0 15  1]\n",
      " [ 0  0 11]]\n"
     ]
    },
    {
     "name": "stderr",
     "output_type": "stream",
     "text": [
      "C:\\Users\\HP\\anaconda3\\lib\\site-packages\\sklearn\\linear_model\\_logistic.py:458: ConvergenceWarning: lbfgs failed to converge (status=1):\n",
      "STOP: TOTAL NO. of ITERATIONS REACHED LIMIT.\n",
      "\n",
      "Increase the number of iterations (max_iter) or scale the data as shown in:\n",
      "    https://scikit-learn.org/stable/modules/preprocessing.html\n",
      "Please also refer to the documentation for alternative solver options:\n",
      "    https://scikit-learn.org/stable/modules/linear_model.html#logistic-regression\n",
      "  n_iter_i = _check_optimize_result(\n"
     ]
    }
   ],
   "source": [
    "logisticregression(x, y)"
   ]
  },
  {
   "cell_type": "markdown",
   "id": "ae3ad0e7",
   "metadata": {},
   "source": [
    "### <font color = brown> k Nearest Neighbor"
   ]
  },
  {
   "cell_type": "markdown",
   "id": "260e0a06",
   "metadata": {},
   "source": [
    "#### Import KNeighborsClassifiers"
   ]
  },
  {
   "cell_type": "code",
   "execution_count": 21,
   "id": "ea4e5993",
   "metadata": {},
   "outputs": [],
   "source": [
    "from sklearn.neighbors import KNeighborsClassifier"
   ]
  },
  {
   "cell_type": "markdown",
   "id": "13744e15",
   "metadata": {},
   "source": [
    "#### Defining a function to find k nearest neighbor with highest accuracy_score"
   ]
  },
  {
   "cell_type": "code",
   "execution_count": 22,
   "id": "36325732",
   "metadata": {},
   "outputs": [],
   "source": [
    "def knnhighaccuracy(x,y):\n",
    "    metric = []\n",
    "    neighbors = np.arange(3,15)\n",
    "    acc = 0\n",
    "    for k in neighbors:\n",
    "        classifier = KNeighborsClassifier(n_neighbors = k, metric = 'minkowski', p = 2)\n",
    "        classifier.fit(x_train, y_train)\n",
    "        y_pred_knn = classifier.predict(x_test)\n",
    "        accuracy = accuracy_score(y_test, y_pred_knn)\n",
    "        if acc < accuracy:\n",
    "            acc = accuracy\n",
    "            k_high = k\n",
    "        metric.append(accuracy)\n",
    "    plt.plot(neighbors,metric,'o-')\n",
    "    plt.xlabel('k value')\n",
    "    plt.ylabel('accuracy')\n",
    "    plt.grid()\n",
    "    plt.show()\n",
    "    return x_train, x_test, y_train, y_test, k_high"
   ]
  },
  {
   "cell_type": "markdown",
   "id": "ebcedc3c",
   "metadata": {},
   "source": [
    "#### Calling the knnhighaccuracy function"
   ]
  },
  {
   "cell_type": "code",
   "execution_count": 23,
   "id": "acc77221",
   "metadata": {},
   "outputs": [
    {
     "data": {
      "image/png": "[encoded data removed]",
      "text/plain": [
       "<Figure size 640x480 with 1 Axes>"
      ]
     },
     "metadata": {},
     "output_type": "display_data"
    }
   ],
   "source": [
    "x_train1, x_test1, y_train1, y_test1, k_high1 = knnhighaccuracy(x,y)"
   ]
  },
  {
   "cell_type": "markdown",
   "id": "15455625",
   "metadata": {},
   "source": [
    "#### Finding the k nearest neighbor value with highest accuracy"
   ]
  },
  {
   "cell_type": "code",
   "execution_count": 24,
   "id": "add0ed97",
   "metadata": {},
   "outputs": [
    {
     "data": {
      "text/plain": [
       "7"
      ]
     },
     "execution_count": 24,
     "metadata": {},
     "output_type": "execute_result"
    }
   ],
   "source": [
    "k_high1"
   ]
  },
  {
   "cell_type": "markdown",
   "id": "0c290735",
   "metadata": {},
   "source": [
    "##### <font color = violet> There are more than one k value with highest accuracy. So we take the least among them."
   ]
  },
  {
   "cell_type": "markdown",
   "id": "22eaead3",
   "metadata": {},
   "source": [
    "#### Defining a function to calculate the accuracy of highest k nearest neighbor"
   ]
  },
  {
   "cell_type": "code",
   "execution_count": 25,
   "id": "b2d480f1",
   "metadata": {},
   "outputs": [],
   "source": [
    "def knn(x_train, x_test, y_train, y_test, k_high):\n",
    "    classifier = KNeighborsClassifier(n_neighbors = k_high, metric = 'minkowski', p = 2)\n",
    "    classifier.fit(x_train, y_train)\n",
    "    y_pred = classifier.predict(x_test)\n",
    "    print('Accuracy =', accuracy_score(y_test, y_pred))\n",
    "    print('Precision =', precision_score(y_test, y_pred, average = 'micro'))\n",
    "    print('Recall =', recall_score(y_test, y_pred, average = 'micro'))\n",
    "    print('F1 Score =', f1_score(y_test, y_pred, average = 'micro'))\n",
    "    print('Confusion Matrix is\\n', confusion_matrix(y_test, y_pred))"
   ]
  },
  {
   "cell_type": "markdown",
   "id": "2c4cc224",
   "metadata": {},
   "source": [
    "#### Calling the knn function"
   ]
  },
  {
   "cell_type": "code",
   "execution_count": 26,
   "id": "8cd17864",
   "metadata": {},
   "outputs": [
    {
     "name": "stdout",
     "output_type": "stream",
     "text": [
      "Accuracy = 0.9210526315789473\n",
      "Precision = 0.9210526315789473\n",
      "Recall = 0.9210526315789473\n",
      "F1 Score = 0.9210526315789473\n",
      "Confusion Matrix is\n",
      " [[ 9  2  0]\n",
      " [ 0 15  1]\n",
      " [ 0  0 11]]\n"
     ]
    }
   ],
   "source": [
    "knn(x_train1, x_test1, y_train1, y_test1, k_high1)"
   ]
  },
  {
   "cell_type": "markdown",
   "id": "7bee270b",
   "metadata": {},
   "source": [
    "### <font color = brown> SVM Model"
   ]
  },
  {
   "cell_type": "markdown",
   "id": "1a34a82e",
   "metadata": {},
   "source": [
    "#### Importing SVC from sklearn"
   ]
  },
  {
   "cell_type": "code",
   "execution_count": 27,
   "id": "8283a3e4",
   "metadata": {},
   "outputs": [],
   "source": [
    "from sklearn.svm import SVC\n",
    "svmclf = SVC(kernel = 'linear')"
   ]
  },
  {
   "cell_type": "markdown",
   "id": "b57a1d57",
   "metadata": {},
   "source": [
    "#### Defining a function for SVM model "
   ]
  },
  {
   "cell_type": "code",
   "execution_count": 28,
   "id": "4ad13110",
   "metadata": {},
   "outputs": [],
   "source": [
    "def svmmodel(x,y):\n",
    "    svmclf.fit(x_train, y_train)\n",
    "    y_pred = svmclf.predict(x_test)\n",
    "    print('Accuracy =', accuracy_score(y_test, y_pred))\n",
    "    print('Confusion Matrix is\\n', confusion_matrix(y_test, y_pred))"
   ]
  },
  {
   "cell_type": "markdown",
   "id": "5860db49",
   "metadata": {},
   "source": [
    "#### Calling the svmmodel fuction"
   ]
  },
  {
   "cell_type": "code",
   "execution_count": 29,
   "id": "9ec1969f",
   "metadata": {},
   "outputs": [
    {
     "name": "stdout",
     "output_type": "stream",
     "text": [
      "Accuracy = 0.9210526315789473\n",
      "Confusion Matrix is\n",
      " [[ 9  2  0]\n",
      " [ 0 15  1]\n",
      " [ 0  0 11]]\n"
     ]
    }
   ],
   "source": [
    "svmmodel(x,y)"
   ]
  },
  {
   "cell_type": "markdown",
   "id": "d3e29d7a",
   "metadata": {},
   "source": [
    "### <font color = brown> Decision Tree"
   ]
  },
  {
   "cell_type": "markdown",
   "id": "4c696197",
   "metadata": {},
   "source": [
    "#### Importing Decision Tree from sklearn"
   ]
  },
  {
   "cell_type": "code",
   "execution_count": 30,
   "id": "998a1d72",
   "metadata": {},
   "outputs": [],
   "source": [
    "from sklearn.tree import DecisionTreeClassifier\n",
    "dt_clf = DecisionTreeClassifier()"
   ]
  },
  {
   "cell_type": "markdown",
   "id": "9aa0dab6",
   "metadata": {},
   "source": [
    "#### Defining a function for Decision Tree"
   ]
  },
  {
   "cell_type": "code",
   "execution_count": 31,
   "id": "879ddf98",
   "metadata": {},
   "outputs": [],
   "source": [
    "def decisiontree(x,y):\n",
    "    dt_clf.fit(x_train, y_train)\n",
    "    y_pred = dt_clf.predict(x_test)\n",
    "    print('Accuracy =', accuracy_score(y_test, y_pred))\n",
    "    print('Confusion Matrix is\\n', confusion_matrix(y_test, y_pred))"
   ]
  },
  {
   "cell_type": "markdown",
   "id": "ae80a426",
   "metadata": {},
   "source": [
    "#### Calling the decisiontree fuction"
   ]
  },
  {
   "cell_type": "code",
   "execution_count": 32,
   "id": "355d0fea",
   "metadata": {},
   "outputs": [
    {
     "name": "stdout",
     "output_type": "stream",
     "text": [
      "Accuracy = 0.9473684210526315\n",
      "Confusion Matrix is\n",
      " [[11  0  0]\n",
      " [ 0 15  1]\n",
      " [ 0  1 10]]\n"
     ]
    }
   ],
   "source": [
    "decisiontree(x,y)"
   ]
  },
  {
   "cell_type": "markdown",
   "id": "e7f0b136",
   "metadata": {},
   "source": [
    "### <font color = brown> Random Forest"
   ]
  },
  {
   "cell_type": "markdown",
   "id": "fb56efc0",
   "metadata": {},
   "source": [
    "#### Importing Random Forest from sklearn"
   ]
  },
  {
   "cell_type": "code",
   "execution_count": 36,
   "id": "13ec8899",
   "metadata": {},
   "outputs": [],
   "source": [
    "from sklearn.ensemble import RandomForestClassifier\n",
    "rf_clf = RandomForestClassifier()"
   ]
  },
  {
   "cell_type": "markdown",
   "id": "bcdfe07e",
   "metadata": {},
   "source": [
    "#### Defining a function for Random Forest"
   ]
  },
  {
   "cell_type": "code",
   "execution_count": 37,
   "id": "fbdf4c0b",
   "metadata": {},
   "outputs": [],
   "source": [
    "def randomforest(x,y):\n",
    "    rf_clf.fit(x_train, y_train)\n",
    "    y_pred = rf_clf.predict(x_test)\n",
    "    print('Accuracy =', accuracy_score(y_test, y_pred))\n",
    "    print('Confusion Matrix is\\n', confusion_matrix(y_test, y_pred))"
   ]
  },
  {
   "cell_type": "markdown",
   "id": "08f23615",
   "metadata": {},
   "source": [
    "#### Calling the randomforest fuction"
   ]
  },
  {
   "cell_type": "code",
   "execution_count": 38,
   "id": "a642881b",
   "metadata": {},
   "outputs": [
    {
     "name": "stdout",
     "output_type": "stream",
     "text": [
      "Accuracy = 0.9473684210526315\n",
      "Confusion Matrix is\n",
      " [[11  0  0]\n",
      " [ 0 15  1]\n",
      " [ 0  1 10]]\n"
     ]
    }
   ],
   "source": [
    "randomforest(x,y)"
   ]
  },
  {
   "cell_type": "markdown",
   "id": "6118470e",
   "metadata": {},
   "source": [
    "#### <font color = violet> The values in all the  features in the dataset have similar magnitudes and ranges, so scaling is not typically required. "
   ]
  },
  {
   "cell_type": "markdown",
   "id": "3594b8fe",
   "metadata": {},
   "source": [
    "### <font color = red> We can see that the decision tree and random forest models have highest accuracy among the classification models. So they could give best prediction result for the dataset."
   ]
  },
  {
   "cell_type": "code",
   "execution_count": null,
   "id": "2c9ee5c6",
   "metadata": {},
   "outputs": [],
   "source": []
  }
 ],
 "metadata": {
  "kernelspec": {
   "display_name": "Python 3 (ipykernel)",
   "language": "python",
   "name": "python3"
  },
  "language_info": {
   "codemirror_mode": {
    "name": "ipython",
    "version": 3
   },
   "file_extension": ".py",
   "mimetype": "text/x-python",
   "name": "python",
   "nbconvert_exporter": "python",
   "pygments_lexer": "ipython3",
   "version": "3.10.9"
  }
 },
 "nbformat": 4,
 "nbformat_minor": 5
}
