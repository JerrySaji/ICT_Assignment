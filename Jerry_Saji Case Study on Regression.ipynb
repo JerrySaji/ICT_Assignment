{
 "cells": [
  {
   "cell_type": "markdown",
   "id": "7f23ade5",
   "metadata": {},
   "source": [
    "#### Importing necessary Libraries"
   ]
  },
  {
   "cell_type": "code",
   "execution_count": 1,
   "id": "24472b9d",
   "metadata": {},
   "outputs": [],
   "source": [
    "import numpy as np\n",
    "import pandas as pd\n",
    "import matplotlib.pyplot as plt\n",
    "import seaborn as sns\n",
    "import warnings\n",
    "warnings.simplefilter(action = 'ignore', category = FutureWarning)"
   ]
  },
  {
   "cell_type": "markdown",
   "id": "e74d78e4",
   "metadata": {},
   "source": [
    "#### Loading the Dataset"
   ]
  },
  {
   "cell_type": "code",
   "execution_count": 2,
   "id": "d628255e",
   "metadata": {},
   "outputs": [],
   "source": [
    "data = pd.read_csv(r\"D:\\ICTAK\\Assignments and Case Studies\\Case Study 02\\car_age_price.csv\")"
   ]
  },
  {
   "cell_type": "markdown",
   "id": "e5efd1da",
   "metadata": {},
   "source": [
    "#### Displaying the head of the dataset"
   ]
  },
  {
   "cell_type": "code",
   "execution_count": 3,
   "id": "390b0977",
   "metadata": {},
   "outputs": [
    {
     "data": {
      "text/html": [
       "<div>\n",
       "<style scoped>\n",
       "    .dataframe tbody tr th:only-of-type {\n",
       "        vertical-align: middle;\n",
       "    }\n",
       "\n",
       "    .dataframe tbody tr th {\n",
       "        vertical-align: top;\n",
       "    }\n",
       "\n",
       "    .dataframe thead th {\n",
       "        text-align: right;\n",
       "    }\n",
       "</style>\n",
       "<table border=\"1\" class=\"dataframe\">\n",
       "  <thead>\n",
       "    <tr style=\"text-align: right;\">\n",
       "      <th></th>\n",
       "      <th>Year</th>\n",
       "      <th>Price</th>\n",
       "    </tr>\n",
       "  </thead>\n",
       "  <tbody>\n",
       "    <tr>\n",
       "      <th>0</th>\n",
       "      <td>2018</td>\n",
       "      <td>465000</td>\n",
       "    </tr>\n",
       "    <tr>\n",
       "      <th>1</th>\n",
       "      <td>2019</td>\n",
       "      <td>755000</td>\n",
       "    </tr>\n",
       "    <tr>\n",
       "      <th>2</th>\n",
       "      <td>2019</td>\n",
       "      <td>700000</td>\n",
       "    </tr>\n",
       "    <tr>\n",
       "      <th>3</th>\n",
       "      <td>2018</td>\n",
       "      <td>465000</td>\n",
       "    </tr>\n",
       "    <tr>\n",
       "      <th>4</th>\n",
       "      <td>2018</td>\n",
       "      <td>465000</td>\n",
       "    </tr>\n",
       "  </tbody>\n",
       "</table>\n",
       "</div>"
      ],
      "text/plain": [
       "   Year   Price\n",
       "0  2018  465000\n",
       "1  2019  755000\n",
       "2  2019  700000\n",
       "3  2018  465000\n",
       "4  2018  465000"
      ]
     },
     "execution_count": 3,
     "metadata": {},
     "output_type": "execute_result"
    }
   ],
   "source": [
    "data.head()"
   ]
  },
  {
   "cell_type": "markdown",
   "id": "3142dfc7",
   "metadata": {},
   "source": [
    "#### Getting the shape of the dataset"
   ]
  },
  {
   "cell_type": "code",
   "execution_count": 4,
   "id": "6c3cfde4",
   "metadata": {},
   "outputs": [
    {
     "data": {
      "text/plain": [
       "(112, 2)"
      ]
     },
     "execution_count": 4,
     "metadata": {},
     "output_type": "execute_result"
    }
   ],
   "source": [
    "data.shape"
   ]
  },
  {
   "cell_type": "markdown",
   "id": "69fd1f24",
   "metadata": {},
   "source": [
    "#### Getting the info of the dataset"
   ]
  },
  {
   "cell_type": "code",
   "execution_count": 5,
   "id": "40813410",
   "metadata": {},
   "outputs": [
    {
     "name": "stdout",
     "output_type": "stream",
     "text": [
      "<class 'pandas.core.frame.DataFrame'>\n",
      "RangeIndex: 112 entries, 0 to 111\n",
      "Data columns (total 2 columns):\n",
      " #   Column  Non-Null Count  Dtype\n",
      "---  ------  --------------  -----\n",
      " 0   Year    112 non-null    int64\n",
      " 1   Price   112 non-null    int64\n",
      "dtypes: int64(2)\n",
      "memory usage: 1.9 KB\n"
     ]
    }
   ],
   "source": [
    "data.info()"
   ]
  },
  {
   "cell_type": "markdown",
   "id": "cf01555d",
   "metadata": {},
   "source": [
    "###### <font color = violet> We can see that there is 2 columns in the dataset which are both int datatypes and have no null values in them."
   ]
  },
  {
   "cell_type": "markdown",
   "id": "0e8de014",
   "metadata": {},
   "source": [
    "#### Getting statistical summary of the dataset"
   ]
  },
  {
   "cell_type": "code",
   "execution_count": 6,
   "id": "b25f4128",
   "metadata": {},
   "outputs": [
    {
     "data": {
      "text/html": [
       "<div>\n",
       "<style scoped>\n",
       "    .dataframe tbody tr th:only-of-type {\n",
       "        vertical-align: middle;\n",
       "    }\n",
       "\n",
       "    .dataframe tbody tr th {\n",
       "        vertical-align: top;\n",
       "    }\n",
       "\n",
       "    .dataframe thead th {\n",
       "        text-align: right;\n",
       "    }\n",
       "</style>\n",
       "<table border=\"1\" class=\"dataframe\">\n",
       "  <thead>\n",
       "    <tr style=\"text-align: right;\">\n",
       "      <th></th>\n",
       "      <th>Year</th>\n",
       "      <th>Price</th>\n",
       "    </tr>\n",
       "  </thead>\n",
       "  <tbody>\n",
       "    <tr>\n",
       "      <th>count</th>\n",
       "      <td>112.000000</td>\n",
       "      <td>112.000000</td>\n",
       "    </tr>\n",
       "    <tr>\n",
       "      <th>mean</th>\n",
       "      <td>2016.669643</td>\n",
       "      <td>483866.044643</td>\n",
       "    </tr>\n",
       "    <tr>\n",
       "      <th>std</th>\n",
       "      <td>1.629616</td>\n",
       "      <td>91217.450533</td>\n",
       "    </tr>\n",
       "    <tr>\n",
       "      <th>min</th>\n",
       "      <td>2013.000000</td>\n",
       "      <td>300000.000000</td>\n",
       "    </tr>\n",
       "    <tr>\n",
       "      <th>25%</th>\n",
       "      <td>2015.000000</td>\n",
       "      <td>423750.000000</td>\n",
       "    </tr>\n",
       "    <tr>\n",
       "      <th>50%</th>\n",
       "      <td>2017.000000</td>\n",
       "      <td>500000.000000</td>\n",
       "    </tr>\n",
       "    <tr>\n",
       "      <th>75%</th>\n",
       "      <td>2017.000000</td>\n",
       "      <td>550000.000000</td>\n",
       "    </tr>\n",
       "    <tr>\n",
       "      <th>max</th>\n",
       "      <td>2020.000000</td>\n",
       "      <td>755000.000000</td>\n",
       "    </tr>\n",
       "  </tbody>\n",
       "</table>\n",
       "</div>"
      ],
      "text/plain": [
       "              Year          Price\n",
       "count   112.000000     112.000000\n",
       "mean   2016.669643  483866.044643\n",
       "std       1.629616   91217.450533\n",
       "min    2013.000000  300000.000000\n",
       "25%    2015.000000  423750.000000\n",
       "50%    2017.000000  500000.000000\n",
       "75%    2017.000000  550000.000000\n",
       "max    2020.000000  755000.000000"
      ]
     },
     "execution_count": 6,
     "metadata": {},
     "output_type": "execute_result"
    }
   ],
   "source": [
    "data.describe()"
   ]
  },
  {
   "cell_type": "markdown",
   "id": "45d4873a",
   "metadata": {},
   "source": [
    "#### Getting the value counts of the column 'Year'"
   ]
  },
  {
   "cell_type": "code",
   "execution_count": 7,
   "id": "ce4380fa",
   "metadata": {},
   "outputs": [
    {
     "data": {
      "text/plain": [
       "2017    47\n",
       "2015    22\n",
       "2019    12\n",
       "2018    11\n",
       "2016     6\n",
       "2014     6\n",
       "2020     4\n",
       "2013     4\n",
       "Name: Year, dtype: int64"
      ]
     },
     "execution_count": 7,
     "metadata": {},
     "output_type": "execute_result"
    }
   ],
   "source": [
    "data.Year.value_counts()"
   ]
  },
  {
   "cell_type": "markdown",
   "id": "a0a87e63",
   "metadata": {},
   "source": [
    "#### Visualizing the distribution of the column 'Year'"
   ]
  },
  {
   "cell_type": "code",
   "execution_count": 8,
   "id": "6556850a",
   "metadata": {},
   "outputs": [
    {
     "data": {
      "image/png": "[encoded data removed]",
      "text/plain": [
       "<Figure size 640x480 with 1 Axes>"
      ]
     },
     "metadata": {},
     "output_type": "display_data"
    }
   ],
   "source": [
    "plt.hist(data['Year'], color = 'r', rwidth = 0.9, edgecolor = 'black')\n",
    "plt.title('Distribution of number of Cars per Year', fontsize = 15)\n",
    "plt.xlabel('Year', fontsize = 13)\n",
    "plt.ylabel('Count of Cars', fontsize = 13)\n",
    "plt.show()"
   ]
  },
  {
   "cell_type": "markdown",
   "id": "782a695f",
   "metadata": {},
   "source": [
    "#### Finding outliers in the columns of the dataset using boxplot"
   ]
  },
  {
   "cell_type": "code",
   "execution_count": 9,
   "id": "66232694",
   "metadata": {},
   "outputs": [
    {
     "data": {
      "image/png": "[encoded data removed]",
      "text/plain": [
       "<Figure size 640x480 with 1 Axes>"
      ]
     },
     "metadata": {},
     "output_type": "display_data"
    },
    {
     "data": {
      "image/png": "[encoded data removed]",
      "text/plain": [
       "<Figure size 640x480 with 1 Axes>"
      ]
     },
     "metadata": {},
     "output_type": "display_data"
    }
   ],
   "source": [
    "for col in data.columns:\n",
    "    plt.figure()\n",
    "    plt.boxplot(data[col])\n",
    "    plt.title('Boxplot of {}'.format(col), color = 'r')\n",
    "    plt.show()"
   ]
  },
  {
   "cell_type": "markdown",
   "id": "e774e84c",
   "metadata": {},
   "source": [
    "###### <font color = violet> Since there is only one outlier in the column 'Price', we are accounting it."
   ]
  },
  {
   "cell_type": "markdown",
   "id": "5992ed04",
   "metadata": {},
   "source": [
    "#### Find the correlation between the columns in the dataset"
   ]
  },
  {
   "cell_type": "code",
   "execution_count": 10,
   "id": "ac3f0afc",
   "metadata": {},
   "outputs": [
    {
     "data": {
      "text/html": [
       "<div>\n",
       "<style scoped>\n",
       "    .dataframe tbody tr th:only-of-type {\n",
       "        vertical-align: middle;\n",
       "    }\n",
       "\n",
       "    .dataframe tbody tr th {\n",
       "        vertical-align: top;\n",
       "    }\n",
       "\n",
       "    .dataframe thead th {\n",
       "        text-align: right;\n",
       "    }\n",
       "</style>\n",
       "<table border=\"1\" class=\"dataframe\">\n",
       "  <thead>\n",
       "    <tr style=\"text-align: right;\">\n",
       "      <th></th>\n",
       "      <th>Year</th>\n",
       "      <th>Price</th>\n",
       "    </tr>\n",
       "  </thead>\n",
       "  <tbody>\n",
       "    <tr>\n",
       "      <th>Year</th>\n",
       "      <td>1.000000</td>\n",
       "      <td>0.776302</td>\n",
       "    </tr>\n",
       "    <tr>\n",
       "      <th>Price</th>\n",
       "      <td>0.776302</td>\n",
       "      <td>1.000000</td>\n",
       "    </tr>\n",
       "  </tbody>\n",
       "</table>\n",
       "</div>"
      ],
      "text/plain": [
       "           Year     Price\n",
       "Year   1.000000  0.776302\n",
       "Price  0.776302  1.000000"
      ]
     },
     "execution_count": 10,
     "metadata": {},
     "output_type": "execute_result"
    }
   ],
   "source": [
    "data.corr()"
   ]
  },
  {
   "cell_type": "markdown",
   "id": "3fe1d98e",
   "metadata": {},
   "source": [
    "#### Setting feature variable and taget variable"
   ]
  },
  {
   "cell_type": "code",
   "execution_count": 11,
   "id": "6f389fbc",
   "metadata": {},
   "outputs": [],
   "source": [
    "x = data.drop(['Price'], axis = 1).values        # feature variable\n",
    "y = data['Price']                                # target variable"
   ]
  },
  {
   "cell_type": "markdown",
   "id": "b34a8755",
   "metadata": {},
   "source": [
    "## <font color = brown> Linear Regression"
   ]
  },
  {
   "cell_type": "markdown",
   "id": "9c715719",
   "metadata": {},
   "source": [
    "#### Importing Linear Regression from sklearn"
   ]
  },
  {
   "cell_type": "code",
   "execution_count": 12,
   "id": "66cd4f22",
   "metadata": {},
   "outputs": [],
   "source": [
    "from sklearn.linear_model import LinearRegression\n",
    "lr = LinearRegression()"
   ]
  },
  {
   "cell_type": "markdown",
   "id": "a81301f8",
   "metadata": {},
   "source": [
    "#### Importing train_test_split, mean absolute error and r-squared error"
   ]
  },
  {
   "cell_type": "code",
   "execution_count": 13,
   "id": "a2bfdf2d",
   "metadata": {},
   "outputs": [],
   "source": [
    "from sklearn.model_selection import train_test_split\n",
    "from sklearn.metrics import r2_score, mean_absolute_error"
   ]
  },
  {
   "cell_type": "markdown",
   "id": "fef7ae2d",
   "metadata": {},
   "source": [
    "#### Finding the best Linear Model"
   ]
  },
  {
   "cell_type": "code",
   "execution_count": 14,
   "id": "5bc26c2d",
   "metadata": {},
   "outputs": [
    {
     "name": "stdout",
     "output_type": "stream",
     "text": [
      "R-Square value = 0.857424569175707\n",
      "Mean Absolute Error = 23411.722574187177\n",
      "The predicted value from linear model for the year 2022 is 714096.9875919074\n"
     ]
    }
   ],
   "source": [
    "r_lr = 0\n",
    "for i in range(100000):\n",
    "    x_train, x_test, y_train, y_test = train_test_split(x, y, test_size = 0.25, random_state = i)\n",
    "    model = lr.fit(x_train, y_train)\n",
    "    y_pred = model.predict(x_test)\n",
    "    if r2_score(y_test, y_pred)>r_lr:\n",
    "        r_lr = r2_score(y_test, y_pred)\n",
    "        mae_lr = mean_absolute_error(y_test, y_pred)\n",
    "        modelpredict_lr = model.predict([[2022]])\n",
    "print('R-Square value =', r_lr)\n",
    "print('Mean Absolute Error =', mae_lr)\n",
    "print('The predicted value from linear regression model for the year 2022 is', modelpredict_lr[0])"
   ]
  },
  {
   "cell_type": "markdown",
   "id": "4b9a87a2",
   "metadata": {},
   "source": [
    "## <font color = brown> Lasso Regression"
   ]
  },
  {
   "cell_type": "markdown",
   "id": "1831a9cf",
   "metadata": {},
   "source": [
    "#### Importing Lasso regresssion from sklearn"
   ]
  },
  {
   "cell_type": "code",
   "execution_count": 15,
   "id": "5e7608ac",
   "metadata": {},
   "outputs": [],
   "source": [
    "from sklearn.linear_model import Lasso\n",
    "lasso = Lasso(alpha = 1.0)"
   ]
  },
  {
   "cell_type": "markdown",
   "id": "e45c28be",
   "metadata": {},
   "source": [
    "#### Finding the best Lasso Model "
   ]
  },
  {
   "cell_type": "code",
   "execution_count": 17,
   "id": "043a3548",
   "metadata": {},
   "outputs": [
    {
     "name": "stdout",
     "output_type": "stream",
     "text": [
      "R-Square value = 0.8574249289551839\n",
      "Mean Absolute Error = 23411.574366464145\n",
      "The predicted value from lasso regression model for the year 2022 is 714094.9223345518\n"
     ]
    }
   ],
   "source": [
    "r_ls = 0\n",
    "for i in range(100000):\n",
    "    x_train, x_test, y_train, y_test = train_test_split(x, y, test_size = 0.25, random_state = i)\n",
    "    model = lasso.fit(x_train, y_train)\n",
    "    y_pred = model.predict(x_test)\n",
    "    if r2_score(y_test, y_pred)>r_ls:\n",
    "        r_ls = r2_score(y_test, y_pred)\n",
    "        mae_ls = mean_absolute_error(y_test, y_pred)\n",
    "        modelpredict_ls = model.predict([[2022]])\n",
    "print('R-Square value =', r_ls)\n",
    "print('Mean Absolute Error =', mae_ls)\n",
    "print('The predicted value from lasso regression model for the year 2022 is', modelpredict_ls[0])"
   ]
  },
  {
   "cell_type": "markdown",
   "id": "37077707",
   "metadata": {},
   "source": [
    "#### <font color = brown> We can see that the r-squared value for linear regression and lasso regression best models are about the same(lasso regression model is slightly high) and the predicted price of a 2022 model second-hand grand i10 is about the same in both regression models. So we can take either of the models for our prediction."
   ]
  }
 ],
 "metadata": {
  "kernelspec": {
   "display_name": "Python 3 (ipykernel)",
   "language": "python",
   "name": "python3"
  },
  "language_info": {
   "codemirror_mode": {
    "name": "ipython",
    "version": 3
   },
   "file_extension": ".py",
   "mimetype": "text/x-python",
   "name": "python",
   "nbconvert_exporter": "python",
   "pygments_lexer": "ipython3",
   "version": "3.10.9"
  }
 },
 "nbformat": 4,
 "nbformat_minor": 5
}
